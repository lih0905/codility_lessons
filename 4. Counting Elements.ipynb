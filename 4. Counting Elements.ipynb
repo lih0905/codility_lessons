{
 "cells": [
  {
   "cell_type": "markdown",
   "metadata": {},
   "source": [
    "# FrogRiverOne\n",
    "\n",
    "A small frog wants to get to the other side of a river. The frog is initially located on one bank of the river (position 0) and wants to get to the opposite bank (position X+1). Leaves fall from a tree onto the surface of the river.\n",
    "\n",
    "You are given an array A consisting of N integers representing the falling leaves. A[K] represents the position where one leaf falls at time K, measured in seconds.\n",
    "\n",
    "The goal is to find the earliest time when the frog can jump to the other side of the river. The frog can cross only when leaves appear at every position across the river from 1 to X (that is, we want to find the earliest moment when all the positions from 1 to X are covered by leaves). You may assume that the speed of the current in the river is negligibly small, i.e. the leaves do not change their positions once they fall in the river.\n",
    "\n",
    "For example, you are given integer X = 5 and array A such that:\n",
    "\n",
    "    A[0] = 1\n",
    "    A[1] = 3\n",
    "    A[2] = 1\n",
    "    A[3] = 4\n",
    "    A[4] = 2\n",
    "    A[5] = 3\n",
    "    A[6] = 5\n",
    "    A[7] = 4\n",
    "In second 6, a leaf falls into position 5. This is the earliest time when leaves appear in every position across the river.\n",
    "\n",
    "Write a function:\n",
    "\n",
    "    def solution(X, A)\n",
    "\n",
    "that, given a non-empty array A consisting of N integers and integer X, returns the earliest time when the frog can jump to the other side of the river.\n",
    "\n",
    "If the frog is never able to jump to the other side of the river, the function should return −1.\n",
    "\n",
    "For example, given X = 5 and array A such that:\n",
    "\n",
    "    A[0] = 1\n",
    "    A[1] = 3\n",
    "    A[2] = 1\n",
    "    A[3] = 4\n",
    "    A[4] = 2\n",
    "    A[5] = 3\n",
    "    A[6] = 5\n",
    "    A[7] = 4\n",
    "the function should return 6, as explained above.\n",
    "\n",
    "Write an efficient algorithm for the following assumptions:\n",
    "\n",
    "* N and X are integers within the range [1..100,000];\n",
    "* each element of array A is an integer within the range [1..X]."
   ]
  },
  {
   "cell_type": "code",
   "execution_count": 1,
   "metadata": {},
   "outputs": [],
   "source": [
    "A = [1,3,1,4,2,3,5,4]"
   ]
  },
  {
   "cell_type": "code",
   "execution_count": 2,
   "metadata": {},
   "outputs": [],
   "source": [
    "def solution(X, A):\n",
    "    loc_dict = {}\n",
    "    for i in range(len(A)):\n",
    "        loc_dict[A[i]] = 1\n",
    "        if len(loc_dict) == X: return i\n",
    "        \n",
    "    return -1"
   ]
  },
  {
   "cell_type": "code",
   "execution_count": 3,
   "metadata": {},
   "outputs": [
    {
     "data": {
      "text/plain": [
       "6"
      ]
     },
     "execution_count": 3,
     "metadata": {},
     "output_type": "execute_result"
    }
   ],
   "source": [
    "solution(5, A)"
   ]
  },
  {
   "cell_type": "code",
   "execution_count": 4,
   "metadata": {},
   "outputs": [],
   "source": [
    "import random\n",
    "A = [random.randint(1,1000) for _ in range(800)]"
   ]
  },
  {
   "cell_type": "code",
   "execution_count": 5,
   "metadata": {
    "scrolled": true
   },
   "outputs": [
    {
     "data": {
      "text/plain": [
       "-1"
      ]
     },
     "execution_count": 5,
     "metadata": {},
     "output_type": "execute_result"
    }
   ],
   "source": [
    "solution(len(A),A)"
   ]
  },
  {
   "cell_type": "markdown",
   "metadata": {},
   "source": [
    "https://app.codility.com/demo/results/trainingQUZ499-WNS/\n",
    "\n",
    "성공!"
   ]
  },
  {
   "cell_type": "markdown",
   "metadata": {},
   "source": [
    "# MaxCounters\n",
    "\n",
    "You are given N counters, initially set to 0, and you have two possible operations on them:\n",
    "\n",
    "* increase(X) − counter X is increased by 1,\n",
    "* max counter − all counters are set to the maximum value of any counter.\n",
    "\n",
    "A non-empty array A of M integers is given. This array represents consecutive operations:\n",
    "\n",
    "* if A[K] = X, such that 1 ≤ X ≤ N, then operation K is increase(X),\n",
    "* if A[K] = N + 1 then operation K is max counter.\n",
    "\n",
    "For example, given integer N = 5 and array A such that:\n",
    "\n",
    "    A[0] = 3\n",
    "    A[1] = 4\n",
    "    A[2] = 4\n",
    "    A[3] = 6\n",
    "    A[4] = 1\n",
    "    A[5] = 4\n",
    "    A[6] = 4\n",
    "    \n",
    "the values of the counters after each consecutive operation will be:\n",
    "\n",
    "    (0, 0, 1, 0, 0)\n",
    "    (0, 0, 1, 1, 0)\n",
    "    (0, 0, 1, 2, 0)\n",
    "    (2, 2, 2, 2, 2)\n",
    "    (3, 2, 2, 2, 2)\n",
    "    (3, 2, 2, 3, 2)\n",
    "    (3, 2, 2, 4, 2)\n",
    "The goal is to calculate the value of every counter after all operations.\n",
    "\n",
    "Write a function:\n",
    "\n",
    "    def solution(N, A)\n",
    "\n",
    "that, given an integer N and a non-empty array A consisting of M integers, returns a sequence of integers representing the values of the counters.\n",
    "\n",
    "Result array should be returned as an array of integers.\n",
    "\n",
    "For example, given:\n",
    "\n",
    "    A[0] = 3\n",
    "    A[1] = 4\n",
    "    A[2] = 4\n",
    "    A[3] = 6\n",
    "    A[4] = 1\n",
    "    A[5] = 4\n",
    "    A[6] = 4\n",
    "the function should return [3, 2, 2, 4, 2], as explained above.\n",
    "\n",
    "Write an efficient algorithm for the following assumptions:\n",
    "\n",
    "* N and M are integers within the range [1..100,000];\n",
    "* each element of array A is an integer within the range [1..N + 1]."
   ]
  },
  {
   "cell_type": "code",
   "execution_count": 6,
   "metadata": {},
   "outputs": [],
   "source": [
    "A = [3,4,4,6,1,4,4]\n",
    "N = 5"
   ]
  },
  {
   "cell_type": "code",
   "execution_count": 7,
   "metadata": {},
   "outputs": [],
   "source": [
    "def solution(N,A):\n",
    "    cnt = [0] * N\n",
    "    max_num = 0\n",
    "    for num in A:\n",
    "        if num == N+1:\n",
    "            cnt = [max_num] * N\n",
    "        else:\n",
    "            cnt[num-1] +=1\n",
    "            max_num = max(max_num, cnt[num-1])\n",
    "    \n",
    "    return cnt"
   ]
  },
  {
   "cell_type": "code",
   "execution_count": 8,
   "metadata": {},
   "outputs": [
    {
     "data": {
      "text/plain": [
       "[3, 2, 2, 4, 2]"
      ]
     },
     "execution_count": 8,
     "metadata": {},
     "output_type": "execute_result"
    }
   ],
   "source": [
    "solution(N,A)"
   ]
  },
  {
   "cell_type": "code",
   "execution_count": 17,
   "metadata": {},
   "outputs": [],
   "source": [
    "def solution2(N,A):\n",
    "    import array\n",
    "    cnt = array.array('h',[0] * N)\n",
    "    max_num = 0\n",
    "    \n",
    "    for num in A:\n",
    "        if num == N+1:\n",
    "            cnt = array.array('h',[max_num] * N)\n",
    "        else:\n",
    "            cnt[num-1] +=1\n",
    "            max_num = max(max_num, cnt[num-1])\n",
    "    \n",
    "    return list(cnt)"
   ]
  },
  {
   "cell_type": "code",
   "execution_count": 18,
   "metadata": {},
   "outputs": [
    {
     "data": {
      "text/plain": [
       "[3, 2, 2, 4, 2]"
      ]
     },
     "execution_count": 18,
     "metadata": {},
     "output_type": "execute_result"
    }
   ],
   "source": [
    "solution2(N,A)"
   ]
  },
  {
   "cell_type": "markdown",
   "metadata": {},
   "source": [
    "https://app.codility.com/demo/results/trainingP879GE-KK3/\n",
    "\n",
    "66%"
   ]
  },
  {
   "cell_type": "code",
   "execution_count": null,
   "metadata": {},
   "outputs": [],
   "source": []
  }
 ],
 "metadata": {
  "kernelspec": {
   "display_name": "Python 3",
   "language": "python",
   "name": "python3"
  },
  "language_info": {
   "codemirror_mode": {
    "name": "ipython",
    "version": 3
   },
   "file_extension": ".py",
   "mimetype": "text/x-python",
   "name": "python",
   "nbconvert_exporter": "python",
   "pygments_lexer": "ipython3",
   "version": "3.7.3"
  }
 },
 "nbformat": 4,
 "nbformat_minor": 2
}
