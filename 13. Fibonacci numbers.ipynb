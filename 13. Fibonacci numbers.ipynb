{
 "cells": [
  {
   "cell_type": "markdown",
   "metadata": {},
   "source": [
    "# Lesson 13 Fibonacci numbers"
   ]
  },
  {
   "cell_type": "code",
   "execution_count": 38,
   "metadata": {},
   "outputs": [],
   "source": [
    "# Finding Fiibonacci numbers recursively\n",
    "\n",
    "def fibonacci(n):\n",
    "    if n <= 1:\n",
    "        return n\n",
    "    return fibonacci(n-1)+fibonacci(n-2)"
   ]
  },
  {
   "cell_type": "code",
   "execution_count": 39,
   "metadata": {},
   "outputs": [
    {
     "name": "stdout",
     "output_type": "stream",
     "text": [
      "0\n",
      "1\n",
      "1\n",
      "2\n",
      "3\n",
      "5\n",
      "8\n",
      "13\n",
      "21\n",
      "34\n"
     ]
    }
   ],
   "source": [
    "for i in range(10):\n",
    "    print(fibonacci(i))"
   ]
  },
  {
   "cell_type": "markdown",
   "metadata": {},
   "source": [
    "이건 너무 비효율적이므로 미리 저장해두자."
   ]
  },
  {
   "cell_type": "code",
   "execution_count": 40,
   "metadata": {},
   "outputs": [],
   "source": [
    "def fibonacciDynamic(n):\n",
    "    fib = [0] * (n+2)\n",
    "    fib[1] = 1\n",
    "    for i in range(2, n+1):\n",
    "        fib[i] = fib[i-1] + fib[i-2]\n",
    "    return fib[n]"
   ]
  },
  {
   "cell_type": "code",
   "execution_count": 41,
   "metadata": {},
   "outputs": [
    {
     "name": "stdout",
     "output_type": "stream",
     "text": [
      "0\n",
      "1\n",
      "1\n",
      "2\n",
      "3\n",
      "5\n",
      "8\n",
      "13\n",
      "21\n",
      "34\n"
     ]
    }
   ],
   "source": [
    "for i in range(10):\n",
    "    print(fibonacciDynamic(i))"
   ]
  },
  {
   "cell_type": "code",
   "execution_count": 48,
   "metadata": {},
   "outputs": [],
   "source": [
    "import math\n",
    "def fib_eq(n):\n",
    "    return int((((1+math.sqrt(5))/2)**n - ((1-math.sqrt(5))/2)**n)/math.sqrt(5))\n"
   ]
  },
  {
   "cell_type": "code",
   "execution_count": 50,
   "metadata": {},
   "outputs": [
    {
     "name": "stdout",
     "output_type": "stream",
     "text": [
      "0\n",
      "1\n",
      "1\n",
      "2\n",
      "3\n",
      "5\n",
      "8\n",
      "13\n",
      "21\n",
      "34\n"
     ]
    }
   ],
   "source": [
    "for i in range(10):\n",
    "    print(fib_eq(i))"
   ]
  },
  {
   "cell_type": "markdown",
   "metadata": {},
   "source": [
    "# FibFrog\n",
    "\n",
    "The Fibonacci sequence is defined using the following recursive formula:\n",
    "\n",
    "    F(0) = 0\n",
    "    F(1) = 1\n",
    "    F(M) = F(M - 1) + F(M - 2) if M >= 2\n",
    "\n",
    "A small frog wants to get to the other side of a river. The frog is initially located at one bank of the river (position −1) and wants to get to the other bank (position N). The frog can jump over any distance F(K), where F(K) is the K-th Fibonacci number. Luckily, there are many leaves on the river, and the frog can jump between the leaves, but only in the direction of the bank at position N.\n",
    "\n",
    "The leaves on the river are represented in an array A consisting of N integers. Consecutive elements of array A represent consecutive positions from 0 to N − 1 on the river. Array A contains only 0s and/or 1s:\n",
    "\n",
    "* 0 represents a position without a leaf;\n",
    "* 1 represents a position containing a leaf.\n",
    "\n",
    "The goal is to count the minimum number of jumps in which the frog can get to the other side of the river (from position −1 to position N). The frog can jump between positions −1 and N (the banks of the river) and every position containing a leaf.\n",
    "\n",
    "For example, consider array A such that:\n",
    "\n",
    "    A[0] = 0\n",
    "    A[1] = 0\n",
    "    A[2] = 0\n",
    "    A[3] = 1\n",
    "    A[4] = 1\n",
    "    A[5] = 0\n",
    "    A[6] = 1\n",
    "    A[7] = 0\n",
    "    A[8] = 0\n",
    "    A[9] = 0\n",
    "    A[10] = 0\n",
    "\n",
    "The frog can make three jumps of length F(5) = 5, F(3) = 2 and F(5) = 5.\n",
    "\n",
    "Write a function:\n",
    "\n",
    "    def solution(A)\n",
    "\n",
    "that, given an array A consisting of N integers, returns the minimum number of jumps by which the frog can get to the other side of the river. If the frog cannot reach the other side of the river, the function should return −1.\n",
    "\n",
    "For example, given:\n",
    "\n",
    "    A[0] = 0\n",
    "    A[1] = 0\n",
    "    A[2] = 0\n",
    "    A[3] = 1\n",
    "    A[4] = 1\n",
    "    A[5] = 0\n",
    "    A[6] = 1\n",
    "    A[7] = 0\n",
    "    A[8] = 0\n",
    "    A[9] = 0\n",
    "    A[10] = 0\n",
    "\n",
    "the function should return 3, as explained above.\n",
    "\n",
    "Write an efficient algorithm for the following assumptions:\n",
    "\n",
    "* N is an integer within the range [0..100,000];\n",
    "* each element of array A is an integer that can have one of the following values: 0, 1."
   ]
  },
  {
   "cell_type": "code",
   "execution_count": null,
   "metadata": {},
   "outputs": [],
   "source": []
  },
  {
   "cell_type": "code",
   "execution_count": null,
   "metadata": {},
   "outputs": [],
   "source": []
  },
  {
   "cell_type": "markdown",
   "metadata": {},
   "source": [
    "## Ladder\n",
    "\n",
    "You have to climb up a ladder. The ladder has exactly N rungs, numbered from 1 to N. With each step, you can ascend by one or two rungs. More precisely:\n",
    "\n",
    "with your first step you can stand on rung 1 or 2,\n",
    "if you are on rung K, you can move to rungs K + 1 or K + 2,\n",
    "finally you have to stand on rung N.\n",
    "Your task is to count the number of different ways of climbing to the top of the ladder.\n",
    "\n",
    "For example, given N = 4, you have five different ways of climbing, ascending by:\n",
    "\n",
    "* 1, 1, 1 and 1 rung,\n",
    "* 1, 1 and 2 rungs,\n",
    "* 1, 2 and 1 rung,\n",
    "* 2, 1 and 1 rungs, and\n",
    "* 2 and 2 rungs.\n",
    "\n",
    "Given N = 5, you have eight different ways of climbing, ascending by:\n",
    "\n",
    "* 1, 1, 1, 1 and 1 rung,\n",
    "* 1, 1, 1 and 2 rungs,\n",
    "* 1, 1, 2 and 1 rung,\n",
    "* 1, 2, 1 and 1 rung,\n",
    "* 1, 2 and 2 rungs,\n",
    "* 2, 1, 1 and 1 rungs,\n",
    "* 2, 1 and 2 rungs, and\n",
    "* 2, 2 and 1 rung.\n",
    "\n",
    "The number of different ways can be very large, so it is sufficient to return the result modulo 2P, for a given integer P.\n",
    "\n",
    "Write a function:\n",
    "\n",
    "    def solution(A, B)\n",
    "\n",
    "that, given two non-empty arrays A and B of L integers, returns an array consisting of L integers specifying the consecutive answers; position I should contain the number of different ways of climbing the ladder with A[I] rungs modulo 2B[I].\n",
    "\n",
    "For example, given L = 5 and:\n",
    "\n",
    "    A[0] = 4   B[0] = 3\n",
    "    A[1] = 4   B[1] = 2\n",
    "    A[2] = 5   B[2] = 4\n",
    "    A[3] = 5   B[3] = 3\n",
    "    A[4] = 1   B[4] = 1\n",
    "    \n",
    "the function should return the sequence [5, 1, 8, 0, 1], as explained above.\n",
    "\n",
    "Write an efficient algorithm for the following assumptions:\n",
    "\n",
    "* L is an integer within the range [1..50,000];\n",
    "* each element of array A is an integer within the range [1..L];\n",
    "* each element of array B is an integer within the range [1..30].\n",
    "\n",
    "https://app.codility.com/programmers/lessons/13-fibonacci_numbers/ladder/start/"
   ]
  },
  {
   "cell_type": "markdown",
   "metadata": {},
   "source": [
    "A가 n이면 2는 0 ~ floor(n/2) 개 가능\n",
    "\n",
    "2가 i개면 1은 n - 2*i개 > 총 n-i개"
   ]
  },
  {
   "cell_type": "code",
   "execution_count": 7,
   "metadata": {},
   "outputs": [],
   "source": [
    "from functools import reduce\n",
    "def comb(n,r):\n",
    "    return int(factorial(n)/factorial(n-r)/factorial(r))"
   ]
  },
  {
   "cell_type": "code",
   "execution_count": 8,
   "metadata": {},
   "outputs": [],
   "source": [
    "def factorial(k):\n",
    "    return reduce(lambda x, y: x*y, range(1,k+1),1)"
   ]
  },
  {
   "cell_type": "code",
   "execution_count": 17,
   "metadata": {},
   "outputs": [],
   "source": [
    "def solution(A,B):\n",
    "    sol_list = []\n",
    "    for i in range(len(A)):\n",
    "        sol = 0\n",
    "        for j in range(int(A[i]/2)+1):\n",
    "            ans = comb(A[i]-j,j)\n",
    "            #print(i,A[i],j,ans)\n",
    "            sol += ans \n",
    "        sol = (sol % (2**B[i]))\n",
    "        sol_list.append(sol)\n",
    "    #print(sol_list)\n",
    "    return sol_list\n",
    "\n"
   ]
  },
  {
   "cell_type": "code",
   "execution_count": 25,
   "metadata": {},
   "outputs": [],
   "source": [
    "A= [4,4,5,5,1]\n",
    "B = [3,2,4,3,1]"
   ]
  },
  {
   "cell_type": "code",
   "execution_count": 26,
   "metadata": {
    "collapsed": true,
    "jupyter": {
     "outputs_hidden": true
    }
   },
   "outputs": [
    {
     "ename": "IndexError",
     "evalue": "list assignment index out of range",
     "output_type": "error",
     "traceback": [
      "\u001b[0;31m---------------------------------------------------------------------------\u001b[0m",
      "\u001b[0;31mIndexError\u001b[0m                                Traceback (most recent call last)",
      "\u001b[0;32m<ipython-input-26-839c1557040a>\u001b[0m in \u001b[0;36m<module>\u001b[0;34m\u001b[0m\n\u001b[0;32m----> 1\u001b[0;31m \u001b[0msolution\u001b[0m\u001b[0;34m(\u001b[0m\u001b[0mA\u001b[0m\u001b[0;34m,\u001b[0m\u001b[0mB\u001b[0m\u001b[0;34m)\u001b[0m\u001b[0;34m\u001b[0m\u001b[0;34m\u001b[0m\u001b[0m\n\u001b[0m",
      "\u001b[0;32m<ipython-input-23-d0de3cebd69f>\u001b[0m in \u001b[0;36msolution\u001b[0;34m(A, B)\u001b[0m\n\u001b[1;32m      2\u001b[0m     \u001b[0msol_list\u001b[0m \u001b[0;34m=\u001b[0m \u001b[0;34m[\u001b[0m\u001b[0;34m]\u001b[0m\u001b[0;34m\u001b[0m\u001b[0;34m\u001b[0m\u001b[0m\n\u001b[1;32m      3\u001b[0m     \u001b[0;32mfor\u001b[0m \u001b[0mi\u001b[0m \u001b[0;32min\u001b[0m \u001b[0mrange\u001b[0m\u001b[0;34m(\u001b[0m\u001b[0mlen\u001b[0m\u001b[0;34m(\u001b[0m\u001b[0mA\u001b[0m\u001b[0;34m)\u001b[0m\u001b[0;34m)\u001b[0m\u001b[0;34m:\u001b[0m\u001b[0;34m\u001b[0m\u001b[0;34m\u001b[0m\u001b[0m\n\u001b[0;32m----> 4\u001b[0;31m         \u001b[0msol_list\u001b[0m\u001b[0;34m.\u001b[0m\u001b[0mappend\u001b[0m\u001b[0;34m(\u001b[0m\u001b[0mfibo\u001b[0m\u001b[0;34m(\u001b[0m\u001b[0mA\u001b[0m\u001b[0;34m[\u001b[0m\u001b[0mi\u001b[0m\u001b[0;34m]\u001b[0m\u001b[0;34m)\u001b[0m \u001b[0;34m%\u001b[0m \u001b[0;34m(\u001b[0m\u001b[0;36m2\u001b[0m\u001b[0;34m**\u001b[0m\u001b[0mB\u001b[0m\u001b[0;34m[\u001b[0m\u001b[0mi\u001b[0m\u001b[0;34m]\u001b[0m\u001b[0;34m)\u001b[0m\u001b[0;34m)\u001b[0m\u001b[0;34m\u001b[0m\u001b[0;34m\u001b[0m\u001b[0m\n\u001b[0m\u001b[1;32m      5\u001b[0m     \u001b[0;31m#print(sol_list)\u001b[0m\u001b[0;34m\u001b[0m\u001b[0;34m\u001b[0m\u001b[0;34m\u001b[0m\u001b[0m\n\u001b[1;32m      6\u001b[0m     \u001b[0;32mreturn\u001b[0m \u001b[0msol_list\u001b[0m\u001b[0;34m\u001b[0m\u001b[0;34m\u001b[0m\u001b[0m\n",
      "\u001b[0;32m<ipython-input-22-d1eeb9095404>\u001b[0m in \u001b[0;36mfibo\u001b[0;34m(n)\u001b[0m\n\u001b[1;32m      6\u001b[0m \u001b[0;34m\u001b[0m\u001b[0m\n\u001b[1;32m      7\u001b[0m     \u001b[0;32mfor\u001b[0m \u001b[0mi\u001b[0m \u001b[0;32min\u001b[0m \u001b[0mrange\u001b[0m\u001b[0;34m(\u001b[0m\u001b[0;36m2\u001b[0m\u001b[0;34m,\u001b[0m \u001b[0;36m100\u001b[0m\u001b[0;34m+\u001b[0m\u001b[0;36m1\u001b[0m\u001b[0;34m)\u001b[0m\u001b[0;34m:\u001b[0m\u001b[0;34m\u001b[0m\u001b[0;34m\u001b[0m\u001b[0m\n\u001b[0;32m----> 8\u001b[0;31m         \u001b[0mcache\u001b[0m\u001b[0;34m[\u001b[0m\u001b[0mi\u001b[0m\u001b[0;34m]\u001b[0m \u001b[0;34m=\u001b[0m \u001b[0mcache\u001b[0m\u001b[0;34m[\u001b[0m\u001b[0mi\u001b[0m\u001b[0;34m-\u001b[0m\u001b[0;36m1\u001b[0m\u001b[0;34m]\u001b[0m \u001b[0;34m+\u001b[0m \u001b[0mcache\u001b[0m\u001b[0;34m[\u001b[0m\u001b[0mi\u001b[0m\u001b[0;34m-\u001b[0m\u001b[0;36m2\u001b[0m\u001b[0;34m]\u001b[0m\u001b[0;34m\u001b[0m\u001b[0;34m\u001b[0m\u001b[0m\n\u001b[0m\u001b[1;32m      9\u001b[0m \u001b[0;34m\u001b[0m\u001b[0m\n\u001b[1;32m     10\u001b[0m     \u001b[0;32mreturn\u001b[0m \u001b[0mcache\u001b[0m\u001b[0;34m[\u001b[0m\u001b[0mn\u001b[0m\u001b[0;34m]\u001b[0m\u001b[0;34m\u001b[0m\u001b[0;34m\u001b[0m\u001b[0m\n",
      "\u001b[0;31mIndexError\u001b[0m: list assignment index out of range"
     ]
    }
   ],
   "source": [
    "solution(A,B)"
   ]
  },
  {
   "cell_type": "markdown",
   "metadata": {},
   "source": [
    "https://app.codility.com/demo/results/trainingDP6AK6-Q6V/\n",
    "\n",
    "37점"
   ]
  },
  {
   "cell_type": "code",
   "execution_count": 20,
   "metadata": {},
   "outputs": [],
   "source": [
    "def solution(n):\n",
    "    sol_list = []\n",
    "    for i in range(1,n+1):\n",
    "        sol = 0\n",
    "        for j in range(int(i/2)+1):\n",
    "            ans = comb(i-j,j)\n",
    "            #print(i,A[i],j,ans)\n",
    "            sol += ans \n",
    "        sol_list.append(sol)\n",
    "    #print(sol_list)\n",
    "    return sol_list\n",
    "\n"
   ]
  },
  {
   "cell_type": "code",
   "execution_count": 21,
   "metadata": {},
   "outputs": [
    {
     "data": {
      "text/plain": [
       "[1, 2, 3, 5, 8, 13, 21, 34, 55, 89]"
      ]
     },
     "execution_count": 21,
     "metadata": {},
     "output_type": "execute_result"
    }
   ],
   "source": [
    "solution(10)"
   ]
  },
  {
   "cell_type": "markdown",
   "metadata": {},
   "source": [
    "아하 정체는 피보나치였음"
   ]
  },
  {
   "cell_type": "code",
   "execution_count": null,
   "metadata": {},
   "outputs": [],
   "source": [
    "def fibo(n):\n",
    "    if n < 2:\n",
    "        return n\n",
    "    cache = [0 for _ in range(n+1)]\n",
    "    cache[1] = 1\n",
    "    \n",
    "    for i in range(2, n+1):\n",
    "        cache[i] = cache[i-1] + cache[i-2]\n",
    "\n",
    "    return cache[n]"
   ]
  },
  {
   "cell_type": "code",
   "execution_count": 35,
   "metadata": {},
   "outputs": [
    {
     "data": {
      "text/plain": [
       "1"
      ]
     },
     "execution_count": 35,
     "metadata": {},
     "output_type": "execute_result"
    }
   ],
   "source": [
    "fibo(2)"
   ]
  },
  {
   "cell_type": "code",
   "execution_count": 36,
   "metadata": {},
   "outputs": [],
   "source": [
    "def solution(A,B):\n",
    "    sol_list = []\n",
    "    for i in range(len(A)):\n",
    "        sol_list.append(fibo(A[i]+1) % (2**B[i]))\n",
    "    #print(sol_list)\n",
    "    return sol_list"
   ]
  },
  {
   "cell_type": "code",
   "execution_count": 37,
   "metadata": {},
   "outputs": [
    {
     "data": {
      "text/plain": [
       "[5, 1, 8, 0, 1]"
      ]
     },
     "execution_count": 37,
     "metadata": {},
     "output_type": "execute_result"
    }
   ],
   "source": [
    "solution(A,B)"
   ]
  },
  {
   "cell_type": "markdown",
   "metadata": {},
   "source": [
    "https://app.codility.com/demo/results/trainingCVCBB4-7F6/\n",
    "\n",
    "62점 $O(L^2)$"
   ]
  },
  {
   "cell_type": "code",
   "execution_count": 51,
   "metadata": {},
   "outputs": [],
   "source": [
    "import math\n",
    "def fib_eq(n):\n",
    "    return int((((1+math.sqrt(5))/2)**n - ((1-math.sqrt(5))/2)**n)/math.sqrt(5))\n",
    "\n",
    "\n",
    "def solution(A,B):\n",
    "    sol_list = []\n",
    "    for i in range(len(A)):\n",
    "        sol_list.append(fibo(A[i]+1) % (2**B[i]))\n",
    "    #print(sol_list)\n",
    "    return sol_list"
   ]
  },
  {
   "cell_type": "code",
   "execution_count": 52,
   "metadata": {},
   "outputs": [
    {
     "data": {
      "text/plain": [
       "[5, 1, 8, 0, 1]"
      ]
     },
     "execution_count": 52,
     "metadata": {},
     "output_type": "execute_result"
    }
   ],
   "source": [
    "solution(A,B)"
   ]
  },
  {
   "cell_type": "markdown",
   "metadata": {},
   "source": [
    "뭔가 잘 안된다..."
   ]
  },
  {
   "cell_type": "code",
   "execution_count": 56,
   "metadata": {},
   "outputs": [],
   "source": [
    "def solution(A,B):\n",
    "    import functools\n",
    "    @functools.lru_cache()\n",
    "    def fibo(n):\n",
    "        if n < 2:\n",
    "            return n\n",
    "        return fibo(n-1) + fibo(n-2)\n",
    "    \n",
    "    sol_list = []\n",
    "    for i in range(len(A)):\n",
    "        sol_list.append(fibo(A[i]+1) % (2**B[i]))\n",
    "    #print(sol_list)\n",
    "    return sol_list    "
   ]
  },
  {
   "cell_type": "code",
   "execution_count": 57,
   "metadata": {},
   "outputs": [
    {
     "data": {
      "text/plain": [
       "[5, 1, 8, 0, 1]"
      ]
     },
     "execution_count": 57,
     "metadata": {},
     "output_type": "execute_result"
    }
   ],
   "source": [
    "solution(A,B)"
   ]
  },
  {
   "cell_type": "markdown",
   "metadata": {},
   "source": [
    "https://app.codility.com/demo/results/trainingXXBEDP-DYA/\n",
    "    \n",
    "62점..."
   ]
  },
  {
   "cell_type": "code",
   "execution_count": 60,
   "metadata": {},
   "outputs": [],
   "source": [
    "def solution(A,B):\n",
    "    n = max(A)+1\n",
    "    fib = [0] * (n+2)\n",
    "    fib[1] = 1\n",
    "    for i in range(2, n+1):\n",
    "        fib[i] = fib[i-1] + fib[i-2]\n",
    "\n",
    "    sol_list = []\n",
    "    for i in range(len(A)):\n",
    "        sol_list.append(fib[A[i]+1] % (2**B[i]))\n",
    "    #print(sol_list)\n",
    "    return sol_list    "
   ]
  },
  {
   "cell_type": "code",
   "execution_count": 61,
   "metadata": {},
   "outputs": [
    {
     "data": {
      "text/plain": [
       "[5, 1, 8, 0, 1]"
      ]
     },
     "execution_count": 61,
     "metadata": {},
     "output_type": "execute_result"
    }
   ],
   "source": [
    "solution(A,B)"
   ]
  },
  {
   "cell_type": "markdown",
   "metadata": {},
   "source": [
    "https://app.codility.com/demo/results/trainingQEBDAU-45X/\n",
    "\n",
    "87점..."
   ]
  },
  {
   "cell_type": "code",
   "execution_count": null,
   "metadata": {},
   "outputs": [],
   "source": [
    "for i in range(20):\n",
    "    print(fibo(i)-fib_eq(i))"
   ]
  },
  {
   "cell_type": "code",
   "execution_count": null,
   "metadata": {},
   "outputs": [],
   "source": []
  }
 ],
 "metadata": {
  "kernelspec": {
   "display_name": "Python 3",
   "language": "python",
   "name": "python3"
  },
  "language_info": {
   "codemirror_mode": {
    "name": "ipython",
    "version": 3
   },
   "file_extension": ".py",
   "mimetype": "text/x-python",
   "name": "python",
   "nbconvert_exporter": "python",
   "pygments_lexer": "ipython3",
   "version": "3.7.3"
  }
 },
 "nbformat": 4,
 "nbformat_minor": 4
}
