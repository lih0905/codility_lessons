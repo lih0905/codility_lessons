{
 "cells": [
  {
   "cell_type": "markdown",
   "metadata": {},
   "source": [
    "# Chapter 9. Maximum slice problem\n",
    "\n",
    "You are given a seq. $a_0, \\ldots, a_{n-1}$ of n integers and the task is to find the slice with the largest sum. More precisely, we are looking for p, q s.t. $a_p + \\cdots + a_q$ is maximal."
   ]
  },
  {
   "cell_type": "markdown",
   "metadata": {},
   "source": [
    "## 9.1. Solution with $O(n^3)$ time complexity"
   ]
  },
  {
   "cell_type": "code",
   "execution_count": 1,
   "metadata": {},
   "outputs": [],
   "source": [
    "def slow_max_slice(A):\n",
    "    n = len(A)\n",
    "    result = 0\n",
    "    for p in range(n):\n",
    "        for q in range(p,n):\n",
    "            sm = 0\n",
    "            for i in range(p, q+1):\n",
    "                sm += A[i]\n",
    "            result = max(result, sm)\n",
    "    return result"
   ]
  },
  {
   "cell_type": "code",
   "execution_count": 2,
   "metadata": {},
   "outputs": [
    {
     "data": {
      "text/plain": [
       "10"
      ]
     },
     "execution_count": 2,
     "metadata": {},
     "output_type": "execute_result"
    }
   ],
   "source": [
    "A = [5,-7,3,5,-2,4,-1]\n",
    "slow_max_slice(A)"
   ]
  },
  {
   "cell_type": "markdown",
   "metadata": {},
   "source": [
    "# 9.2. Solution with $O(n^2)$ time complexity"
   ]
  },
  {
   "cell_type": "code",
   "execution_count": 3,
   "metadata": {},
   "outputs": [],
   "source": [
    "sm = 0\n",
    "pref = []\n",
    "for i in A:\n",
    "    sm += i\n",
    "    pref.append(sm)"
   ]
  },
  {
   "cell_type": "code",
   "execution_count": 8,
   "metadata": {},
   "outputs": [
    {
     "data": {
      "text/plain": [
       "(7, 7)"
      ]
     },
     "execution_count": 8,
     "metadata": {},
     "output_type": "execute_result"
    }
   ],
   "source": [
    "len(A), len(pref)"
   ]
  },
  {
   "cell_type": "code",
   "execution_count": 12,
   "metadata": {},
   "outputs": [],
   "source": [
    "def quadratic_max_slice(A, pref):\n",
    "    n = len(A)\n",
    "    result = 0\n",
    "    for p in range(n):\n",
    "        for q in range(p+1, n):\n",
    "            sm = pref[q] - pref[p]\n",
    "            result = max(result, sm)\n",
    "    return result"
   ]
  },
  {
   "cell_type": "code",
   "execution_count": 13,
   "metadata": {},
   "outputs": [
    {
     "data": {
      "text/plain": [
       "10"
      ]
     },
     "execution_count": 13,
     "metadata": {},
     "output_type": "execute_result"
    }
   ],
   "source": [
    "quadratic_max_slice(A, pref)"
   ]
  },
  {
   "cell_type": "code",
   "execution_count": 14,
   "metadata": {},
   "outputs": [],
   "source": [
    "def quadratic_max_slice(A):\n",
    "    n = len(A)\n",
    "    result = 0\n",
    "    for p in range(n):\n",
    "        sm = 0\n",
    "        for q in range(p, n):\n",
    "            sm += A[q]\n",
    "            result = max(result, sm)\n",
    "    return result"
   ]
  },
  {
   "cell_type": "code",
   "execution_count": 15,
   "metadata": {},
   "outputs": [
    {
     "data": {
      "text/plain": [
       "10"
      ]
     },
     "execution_count": 15,
     "metadata": {},
     "output_type": "execute_result"
    }
   ],
   "source": [
    "quadratic_max_slice(A)"
   ]
  },
  {
   "cell_type": "markdown",
   "metadata": {},
   "source": [
    "## 9.3. Solution with $O(n)$ time complexity\n",
    "\n",
    "For each position, we compute the largest sum that ends in that position. If we assume that the maximum sum of a slice ending in position $i$ equals $\\text{max_ending}$, then the maximum slice ending in position $i+1$ equals $max(0,\\text{max_ending}+a_{i+1})$."
   ]
  },
  {
   "cell_type": "code",
   "execution_count": 18,
   "metadata": {},
   "outputs": [],
   "source": [
    "def golden_max_slice(A):\n",
    "    max_ending = max_slice = 0\n",
    "    for a in A:\n",
    "        max_ending = max(0, max_ending + a)\n",
    "        max_slice = max(max_slice, max_ending)\n",
    "        print(a, max_ending, max_slice)\n",
    "    return max_slice"
   ]
  },
  {
   "cell_type": "code",
   "execution_count": 19,
   "metadata": {},
   "outputs": [
    {
     "name": "stdout",
     "output_type": "stream",
     "text": [
      "5 5 5\n",
      "-7 0 5\n",
      "3 3 5\n",
      "5 8 8\n",
      "-2 6 8\n",
      "4 10 10\n",
      "-1 9 10\n"
     ]
    },
    {
     "data": {
      "text/plain": [
       "10"
      ]
     },
     "execution_count": 19,
     "metadata": {},
     "output_type": "execute_result"
    }
   ],
   "source": [
    "golden_max_slice(A)"
   ]
  },
  {
   "cell_type": "code",
   "execution_count": 20,
   "metadata": {},
   "outputs": [
    {
     "data": {
      "text/plain": [
       "[5, -7, 3, 5, -2, 4, -1]"
      ]
     },
     "execution_count": 20,
     "metadata": {},
     "output_type": "execute_result"
    }
   ],
   "source": [
    "A"
   ]
  },
  {
   "cell_type": "code",
   "execution_count": null,
   "metadata": {},
   "outputs": [],
   "source": []
  }
 ],
 "metadata": {
  "kernelspec": {
   "display_name": "Python 3",
   "language": "python",
   "name": "python3"
  },
  "language_info": {
   "codemirror_mode": {
    "name": "ipython",
    "version": 3
   },
   "file_extension": ".py",
   "mimetype": "text/x-python",
   "name": "python",
   "nbconvert_exporter": "python",
   "pygments_lexer": "ipython3",
   "version": "3.7.3"
  }
 },
 "nbformat": 4,
 "nbformat_minor": 4
}
