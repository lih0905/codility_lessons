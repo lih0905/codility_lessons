{
 "cells": [
  {
   "cell_type": "markdown",
   "metadata": {},
   "source": [
    "# Chapter 15. Caterpillar method\n",
    "\n",
    "Let’s check whether a sequence $a_0, a_1, \\ldots , a_{n−1} (1 \\le a_i \\le 10^9)$ contains a contiguous subsequence whose sum of elements equals s."
   ]
  },
  {
   "cell_type": "code",
   "execution_count": 11,
   "metadata": {},
   "outputs": [],
   "source": [
    "# Caterpillar in O(n) time complexity.\n",
    "\n",
    "def caterpillarMethod(A,s):\n",
    "    n = len(A)\n",
    "    front, total = 0, 0\n",
    "    for back in range(n):\n",
    "        while (front < n and total + A[front] <= s):\n",
    "            total += A[front]\n",
    "            front += 1\n",
    "        if total == s:\n",
    "            return True\n",
    "        total -= A[back]\n",
    "    return False"
   ]
  },
  {
   "cell_type": "code",
   "execution_count": 10,
   "metadata": {},
   "outputs": [
    {
     "data": {
      "text/plain": [
       "False"
      ]
     },
     "execution_count": 10,
     "metadata": {},
     "output_type": "execute_result"
    }
   ],
   "source": [
    "A = [6,2,7,4,1,3,6]\n",
    "s = sum(A)\n",
    "caterpillarMethod(A,s)"
   ]
  },
  {
   "cell_type": "markdown",
   "metadata": {},
   "source": [
    "## 15.2. Exercise\n",
    "\n",
    "You are given n sticks (of lengths $1 \\le a_0 + \\ldots + a_{n−1} \\le 10^9)$. The goal is\n",
    "to count the number of triangles that can be constructed using these sticks. More precisely,\n",
    "we have to count the number of triplets at indices x < y < z, such that $a_x + a_y > a_z$."
   ]
  },
  {
   "cell_type": "code",
   "execution_count": 14,
   "metadata": {},
   "outputs": [],
   "source": [
    "# The number of triangles in O(n^2).\n",
    "\n",
    "def traingles(A):\n",
    "    n = len(A)\n",
    "    result = 0\n",
    "    for x in range(n):\n",
    "        z = x + 2\n",
    "        for y in range(x+1, n):\n",
    "            while (z<n and A[x] + A[y] > A[z]):\n",
    "                z += 1\n",
    "            result += z - y - 1\n",
    "    return result"
   ]
  },
  {
   "cell_type": "code",
   "execution_count": null,
   "metadata": {},
   "outputs": [],
   "source": []
  }
 ],
 "metadata": {
  "kernelspec": {
   "display_name": "Python 3",
   "language": "python",
   "name": "python3"
  },
  "language_info": {
   "codemirror_mode": {
    "name": "ipython",
    "version": 3
   },
   "file_extension": ".py",
   "mimetype": "text/x-python",
   "name": "python",
   "nbconvert_exporter": "python",
   "pygments_lexer": "ipython3",
   "version": "3.7.5"
  }
 },
 "nbformat": 4,
 "nbformat_minor": 4
}
