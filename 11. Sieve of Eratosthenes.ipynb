{
 "cells": [
  {
   "cell_type": "markdown",
   "metadata": {},
   "source": [
    "# Chapter 11 : Sieve of Eratosthenes"
   ]
  },
  {
   "cell_type": "code",
   "execution_count": 1,
   "metadata": {},
   "outputs": [],
   "source": [
    "# Sieve of Eratosthenes\n",
    "def sieve(n):\n",
    "    sieve = [True] * (n+1)\n",
    "    sieve[0] = sieve[1] = False\n",
    "    i = 2\n",
    "    while (i * i <= n):\n",
    "        if (sieve[i]): # 소수를 찾으면 이후 배수를 전부 False\n",
    "            k = i * i # 이 이하의 숫자들은 이미 다른 소수의 배수\n",
    "            while (k <= n):\n",
    "                sieve[k] = False\n",
    "                k += i\n",
    "        i += 1\n",
    "    return sieve"
   ]
  },
  {
   "cell_type": "code",
   "execution_count": 8,
   "metadata": {},
   "outputs": [
    {
     "name": "stdout",
     "output_type": "stream",
     "text": [
      "[2, 3, 5, 7, 11, 13, 17, 19]\n"
     ]
    }
   ],
   "source": [
    "primes = []\n",
    "for i, p in enumerate(sieve(20)):\n",
    "    if p:\n",
    "        primes.append(i)\n",
    "print(primes)"
   ]
  },
  {
   "cell_type": "markdown",
   "metadata": {},
   "source": [
    "연산의 복잡도는 다음과 같다.\n",
    "\n",
    "$$ \\frac n2 + \\frac n3 + \\frac n5 + \\cdots = \\sum_{p_j \\le \\sqrt{n}} \\frac n {p_j} = n \\cdot \\sum_{p_j \\le \\sqrt{n}} \\frac 1 {p_j} $$\n",
    "\n",
    "$n$ 이하의 소수 갯수는 $O(\\log \\log n)$ 이므로 총 복잡도는  $O(n\\log \\log n)$이다."
   ]
  },
  {
   "cell_type": "markdown",
   "metadata": {},
   "source": [
    "## 11.1. Factorization\n",
    "\n",
    "숫자를 나누는 최소 소수를 찾아보자."
   ]
  },
  {
   "cell_type": "code",
   "execution_count": 9,
   "metadata": {},
   "outputs": [],
   "source": [
    "# Preparing the array F for factorization.\n",
    "\n",
    "def arrayF(n):\n",
    "    F = [0] * (n+1)\n",
    "    i = 2\n",
    "    while (i * i <= n):\n",
    "        if (F[i] == 0):\n",
    "            k = i * i\n",
    "            while (k <= n):\n",
    "                if (F[k]==0):\n",
    "                    F[k] = i\n",
    "                k += i\n",
    "        i += 1\n",
    "    return F"
   ]
  },
  {
   "cell_type": "code",
   "execution_count": 13,
   "metadata": {},
   "outputs": [],
   "source": [
    "F = arrayF(20)"
   ]
  },
  {
   "cell_type": "code",
   "execution_count": 17,
   "metadata": {},
   "outputs": [],
   "source": [
    "# Factorization of x\n",
    "\n",
    "def factorization(x, F):\n",
    "    primeFactors = []\n",
    "    while (F[x] > 0) :\n",
    "        primeFactors += [F[x]]\n",
    "        x = int(x/F[x])\n",
    "    primeFactors += [x]\n",
    "    return primeFactors"
   ]
  },
  {
   "cell_type": "code",
   "execution_count": 18,
   "metadata": {},
   "outputs": [
    {
     "data": {
      "text/plain": [
       "[2, 2, 5]"
      ]
     },
     "execution_count": 18,
     "metadata": {},
     "output_type": "execute_result"
    }
   ],
   "source": [
    "factorization(20, F)"
   ]
  },
  {
   "cell_type": "markdown",
   "metadata": {},
   "source": [
    "# CountNonDivisible\n",
    "\n",
    "You are given an array A consisting of N integers.\n",
    "\n",
    "For each number A[i] such that 0 ≤ i < N, we want to count the number of elements of the array that are not the divisors of A[i]. We say that these elements are non-divisors.\n",
    "\n",
    "For example, consider integer N = 5 and array A such that:\n",
    "\n",
    "    A[0] = 3\n",
    "    A[1] = 1\n",
    "    A[2] = 2\n",
    "    A[3] = 3\n",
    "    A[4] = 6\n",
    "\n",
    "For the following elements:\n",
    "\n",
    "* A[0] = 3, the non-divisors are: 2, 6,\n",
    "* A[1] = 1, the non-divisors are: 3, 2, 3, 6,\n",
    "* A[2] = 2, the non-divisors are: 3, 3, 6,\n",
    "* A[3] = 3, the non-divisors are: 2, 6,\n",
    "* A[4] = 6, there aren't any non-divisors.\n",
    "\n",
    "Write a function:\n",
    "\n",
    "    def solution(A)\n",
    "\n",
    "that, given an array A consisting of N integers, returns a sequence of integers representing the amount of non-divisors.\n",
    "\n",
    "Result array should be returned as an array of integers.\n",
    "\n",
    "For example, given:\n",
    "\n",
    "    A[0] = 3\n",
    "    A[1] = 1\n",
    "    A[2] = 2\n",
    "    A[3] = 3\n",
    "    A[4] = 6\n",
    "the function should return [2, 4, 3, 2, 0], as explained above.\n",
    "\n",
    "Write an efficient algorithm for the following assumptions:\n",
    "\n",
    "* N is an integer within the range [1..50,000];\n",
    "* each element of array A is an integer within the range [1..2 * N]."
   ]
  },
  {
   "cell_type": "code",
   "execution_count": 19,
   "metadata": {},
   "outputs": [],
   "source": [
    "A = [3,1,2,3,6]"
   ]
  },
  {
   "cell_type": "code",
   "execution_count": 24,
   "metadata": {},
   "outputs": [],
   "source": [
    "def solution(A):\n",
    "    ans = []\n",
    "    for i in range(len(A)):\n",
    "        div = 0\n",
    "        for j in range(len(A)):\n",
    "            if i != j and A[i] % A[j] != 0:\n",
    "                div += 1\n",
    "        ans.append(div)\n",
    "    return ans\n",
    "                "
   ]
  },
  {
   "cell_type": "code",
   "execution_count": 25,
   "metadata": {},
   "outputs": [
    {
     "data": {
      "text/plain": [
       "[2, 4, 3, 2, 0]"
      ]
     },
     "execution_count": 25,
     "metadata": {},
     "output_type": "execute_result"
    }
   ],
   "source": [
    "solution(A)"
   ]
  },
  {
   "cell_type": "markdown",
   "metadata": {},
   "source": [
    "https://app.codility.com/demo/results/trainingUYVK59-9Z8/\n",
    "\n",
    "55점 $O(N^2)$"
   ]
  },
  {
   "cell_type": "code",
   "execution_count": null,
   "metadata": {},
   "outputs": [],
   "source": []
  }
 ],
 "metadata": {
  "kernelspec": {
   "display_name": "Python 3",
   "language": "python",
   "name": "python3"
  },
  "language_info": {
   "codemirror_mode": {
    "name": "ipython",
    "version": 3
   },
   "file_extension": ".py",
   "mimetype": "text/x-python",
   "name": "python",
   "nbconvert_exporter": "python",
   "pygments_lexer": "ipython3",
   "version": "3.7.3"
  }
 },
 "nbformat": 4,
 "nbformat_minor": 4
}
