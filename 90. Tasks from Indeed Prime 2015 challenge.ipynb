{
 "cells": [
  {
   "cell_type": "markdown",
   "metadata": {},
   "source": [
    "# Chapter 90. Tasks from Indeed Prime 2015 challenge\n",
    "\n",
    "## FloodDepth\n",
    "\n",
    "You are helping a geologist friend investigate an area with mountain lakes. A recent heavy rainfall has flooded these lakes and their water levels have reached the highest possible point. Your friend is interested to know the maximum depth in the deepest part of these lakes.\n",
    "\n",
    "We simplify the problem in 2-D dimensions. The whole landscape can be divided into small blocks and described by an array A of length N. Each element of A is the altitude of the rock floor of a block (i.e. the height of this block when there is no water at all). After the rainfall, all the low-lying areas (i.e. blocks that have higher blocks on both sides) are holding as much water as possible. You would like to know the maximum depth of water after this entire area is flooded. You can assume that the altitude outside this area is zero and the outside area can accommodate infinite amount of water.\n",
    "\n",
    "For example, consider array A such that:\n",
    "\n",
    "    A[0] = 1\n",
    "    A[1] = 3\n",
    "    A[2] = 2\n",
    "    A[3] = 1\n",
    "    A[4] = 2\n",
    "    A[5] = 1\n",
    "    A[6] = 5\n",
    "    A[7] = 3\n",
    "    A[8] = 3\n",
    "    A[9] = 4\n",
    "    A[10] = 2\n",
    "    \n",
    "The following picture illustrates the landscape after it has flooded:\n",
    "\n",
    "![img](https://codility-frontend-prod.s3.amazonaws.com/media/task_static/flood_depth/static/images/auto/567c5fa410e5eec80b633b00c33eb77d.png)\n",
    "\n",
    "The gray area is the rock floor described by the array A above and the blue area with dashed lines represents the water filling the low-lying areas with maximum possible volume. Thus, blocks 3 and 5 have a water depth of 2 while blocks 2, 4, 7 and 8 have a water depth of 1. Therefore, the maximum water depth of this area is 2.\n",
    "\n",
    "Write a function:\n",
    "\n",
    "    def solution(A)\n",
    "\n",
    "that, given a non-empty array A consisting of N integers, returns the maximum depth of water.\n",
    "\n",
    "Given array A shown above, the function should return 2, as explained above.\n",
    "\n",
    "For the following array:\n",
    "\n",
    "    A[0] = 5\n",
    "    A[1] = 8\n",
    "    \n",
    "the function should return 0, because this landscape cannot hold any water.\n",
    "\n",
    "Write an efficient algorithm for the following assumptions:\n",
    "\n",
    "* N is an integer within the range [1..100,000];\n",
    "* each element of array A is an integer within the range [1..100,000,000].\n",
    "\n",
    "https://app.codility.com/programmers/lessons/90-tasks_from_indeed_prime_2015_challenge/flood_depth/start/"
   ]
  },
  {
   "cell_type": "code",
   "execution_count": 1,
   "metadata": {},
   "outputs": [
    {
     "data": {
      "text/plain": [
       "[1, 3, 2, 1, 2, 1, 5, 3, 3, 4, 2]"
      ]
     },
     "execution_count": 1,
     "metadata": {},
     "output_type": "execute_result"
    }
   ],
   "source": [
    "A = [0] * 11\n",
    "A[0] = 1\n",
    "A[1] = 3\n",
    "A[2] = 2\n",
    "A[3] = 1\n",
    "A[4] = 2\n",
    "A[5] = 1\n",
    "A[6] = 5\n",
    "A[7] = 3\n",
    "A[8] = 3\n",
    "A[9] = 4\n",
    "A[10] = 2\n",
    "A"
   ]
  },
  {
   "cell_type": "code",
   "execution_count": 4,
   "metadata": {},
   "outputs": [
    {
     "data": {
      "text/plain": [
       "[True, False, False, True, False, True, False, False, True, False]"
      ]
     },
     "execution_count": 4,
     "metadata": {},
     "output_type": "execute_result"
    }
   ],
   "source": [
    "increase_yn = []\n",
    "for i in range(len(A)-1):\n",
    "    increase_yn.append(A[i]<A[i+1])\n",
    "increase_yn"
   ]
  },
  {
   "cell_type": "code",
   "execution_count": 6,
   "metadata": {},
   "outputs": [
    {
     "data": {
      "text/plain": [
       "2"
      ]
     },
     "execution_count": 6,
     "metadata": {},
     "output_type": "execute_result"
    }
   ],
   "source": [
    "maximum, minimum = 0, max(A)\n",
    "res = 0\n",
    "for i in range(len(A)-1):\n",
    "    if increase_yn[i] == False:\n",
    "        maximum = max(maximum, A[i])\n",
    "        minimum = min(minimum, A[i+1])\n",
    "    elif increase_yn[i] == True:\n",
    "        if A[i+1] < maximum:\n",
    "            res = max(res, A[i+1] - minimum)\n",
    "        elif A[i+1] >= maximum:\n",
    "            res = max(res, maximum - minimum)\n",
    "            maximum, minimum = 0, max(A)\n",
    "            \n",
    "res"
   ]
  },
  {
   "cell_type": "code",
   "execution_count": null,
   "metadata": {},
   "outputs": [],
   "source": [
    "def solution(A):\n",
    "    increase_yn = []\n",
    "    for i in range(len(A)-1):\n",
    "        increase_yn.append(A[i]<A[i+1])\n",
    "\n",
    "    maximum, minimum = 0, max(A)\n",
    "    res = 0\n",
    "    for i in range(len(A)-1):\n",
    "        if increase_yn[i] == False:\n",
    "            maximum = max(maximum, A[i])\n",
    "            minimum = min(minimum, A[i+1])\n",
    "        elif increase_yn[i] == True:\n",
    "            if A[i+1] < maximum:\n",
    "                res = max(res, A[i+1] - minimum)\n",
    "            elif A[i+1] >= maximum:\n",
    "                res = max(res, maximum - minimum)\n",
    "                maximum, minimum = 0, max(A)\n",
    "    return res"
   ]
  },
  {
   "cell_type": "markdown",
   "metadata": {},
   "source": [
    "https://app.codility.com/demo/results/trainingQEVAK5-XVX/\n",
    "\n",
    "75점 $O(N^2)$"
   ]
  },
  {
   "cell_type": "code",
   "execution_count": 7,
   "metadata": {},
   "outputs": [],
   "source": [
    "def solution(A):\n",
    "    maximum, minimum = 0, float('infinity')\n",
    "    res = 0\n",
    "    for i in range(len(A)-1):\n",
    "        if A[i]>=A[i+1]:\n",
    "            maximum = max(maximum, A[i])\n",
    "            minimum = min(minimum, A[i+1])\n",
    "        else:\n",
    "            if A[i+1] < maximum:\n",
    "                res = max(res, A[i+1] - minimum)\n",
    "            elif A[i+1] >= maximum:\n",
    "                res = max(res, maximum - minimum)\n",
    "                maximum, minimum = 0, float('infinity')\n",
    "    return res"
   ]
  },
  {
   "cell_type": "code",
   "execution_count": 8,
   "metadata": {},
   "outputs": [
    {
     "data": {
      "text/plain": [
       "2"
      ]
     },
     "execution_count": 8,
     "metadata": {},
     "output_type": "execute_result"
    }
   ],
   "source": [
    "solution(A)"
   ]
  },
  {
   "cell_type": "markdown",
   "metadata": {},
   "source": [
    "https://app.codility.com/demo/results/trainingC4PVMU-NVG/\n",
    "\n",
    "100점"
   ]
  },
  {
   "cell_type": "markdown",
   "metadata": {},
   "source": [
    "## LongestPassword\n",
    "\n",
    "You would like to set a password for a bank account. However, there are three restrictions on the format of the password:\n",
    "\n",
    "* it has to contain only alphanumerical characters (a−z, A−Z, 0−9);\n",
    "* there should be an even number of letters;\n",
    "* there should be an odd number of digits.\n",
    "\n",
    "You are given a string S consisting of N characters. String S can be divided into words by splitting it at, and removing, the spaces. The goal is to choose the longest word that is a valid password. You can assume that if there are K spaces in string S then there are exactly K + 1 words.\n",
    "\n",
    "For example, given \"test 5 a0A pass007 ?xy1\", there are five words and three of them are valid passwords: \"5\", \"a0A\" and \"pass007\". Thus the longest password is \"pass007\" and its length is 7. Note that neither \"test\" nor \"?xy1\" is a valid password, because \"?\" is not an alphanumerical character and \"test\" contains an even number of digits (zero).\n",
    "\n",
    "Write a function:\n",
    "\n",
    "    def solution(S)\n",
    "\n",
    "that, given a non-empty string S consisting of N characters, returns the length of the longest word from the string that is a valid password. If there is no such word, your function should return −1.\n",
    "\n",
    "For example, given S = \"test 5 a0A pass007 ?xy1\", your function should return 7, as explained above.\n",
    "\n",
    "Assume that:\n",
    "\n",
    "* N is an integer within the range [1..200];\n",
    "* string S consists only of printable ASCII characters and spaces.\n",
    "\n",
    "In your solution, focus on correctness. The performance of your solution will not be the focus of the assessment.\n",
    "\n",
    "https://app.codility.com/programmers/lessons/90-tasks_from_indeed_prime_2015_challenge/longest_password/start/"
   ]
  },
  {
   "cell_type": "code",
   "execution_count": 15,
   "metadata": {},
   "outputs": [],
   "source": [
    "S = \"test 5 a0A pass007 ?xy1\""
   ]
  },
  {
   "cell_type": "code",
   "execution_count": 20,
   "metadata": {},
   "outputs": [],
   "source": [
    "import string\n",
    "\n",
    "def solution(S):\n",
    "    res = -1\n",
    "    words = S.split(' ')\n",
    "    for word in words:\n",
    "        num_char = 0\n",
    "        num_digit = 0\n",
    "        for char in word:\n",
    "            if char in string.ascii_letters:\n",
    "                num_char += 1\n",
    "            elif char in string.digits:\n",
    "                num_digit +=1\n",
    "            else:\n",
    "                break\n",
    "        else:\n",
    "            if num_char%2==0 and num_digit%2==1:\n",
    "                res = max(res, len(word))\n",
    "    return res\n",
    "            "
   ]
  },
  {
   "cell_type": "code",
   "execution_count": 21,
   "metadata": {},
   "outputs": [
    {
     "data": {
      "text/plain": [
       "7"
      ]
     },
     "execution_count": 21,
     "metadata": {},
     "output_type": "execute_result"
    }
   ],
   "source": [
    "solution(S)"
   ]
  },
  {
   "cell_type": "markdown",
   "metadata": {},
   "source": [
    "https://app.codility.com/demo/results/trainingM8EJQV-F8M/\n",
    "\n",
    "100점"
   ]
  },
  {
   "cell_type": "markdown",
   "metadata": {},
   "source": [
    "## SlalomSkiing\n",
    "\n",
    "You are a skier participating in a giant slalom. The slalom track is located on a ski slope, goes downhill and is fenced by barriers on both sides. The barriers are perpendicular to the starting line located at the top of the slope. There are N slalom gates on the track. Each gate is placed at a distinct distance from the starting line and from the barrier on the right-hand side (looking downhill).\n",
    "\n",
    "You start from any place on the starting line, ski down the track passing as many gates as possible, and finish the slalom at the bottom of the slope. Passing a gate means skiing through the position of the gate.\n",
    "\n",
    "You can ski downhill in either of two directions: to the left or to the right. When you ski to the left, you pass gates of increasing distances from the right barrier, and when you ski to the right, you pass gates of decreasing distances from the right barrier. You want to ski to the left at the beginning.\n",
    "\n",
    "Unfortunately, changing direction (left to right or vice versa) is exhausting, so you have decided to change direction at most two times during your ride. Because of this, you have allowed yourself to miss some of the gates on the way down the slope. You would like to know the maximum number of gates that you can pass with at most two changes of direction.\n",
    "\n",
    "The arrangement of the gates is given as an array A consisting of N integers, whose elements specify the positions of the gates: gate K (for 0 ≤ K < N) is at a distance of K+1 from the starting line, and at a distance of A[K] from the right barrier.\n",
    "\n",
    "For example, consider array A such that:\n",
    "\n",
    "    A[0] = 15\n",
    "    A[1] = 13\n",
    "    A[2] = 5\n",
    "    A[3] = 7\n",
    "    A[4] = 4\n",
    "    A[5] = 10\n",
    "    A[6] = 12\n",
    "    A[7] = 8\n",
    "    A[8] = 2\n",
    "    A[9] = 11\n",
    "    A[10] = 6\n",
    "    A[11] = 9\n",
    "    A[12] = 3\n",
    "![img](https://codility-frontend-prod.s3.amazonaws.com/media/task_static/slalom_skiing/static/images/auto/a409a6f498a591b188735b3cce0fde4f.png)\n",
    "\n",
    "The picture above illustrates the example track with N = 13 gates and a course that passes eight gates. After starting, you ski to the left (from your own perspective). You pass gates 2, 3, 5, 6 and then change direction to the right. After that you pass gates 7, 8 and then change direction to the left. Finally, you pass gates 10, 11 and finish the slalom. There is no possible way of passing more gates using at most two changes of direction.\n",
    "\n",
    "Write a function:\n",
    "\n",
    "    def solution(A)\n",
    "\n",
    "that, given an array A consisting of N integers, describing the positions of the gates on the track, returns the maximum number of gates that you can pass during one ski run.\n",
    "\n",
    "For example, given the above data, the function should return 8, as explained above.\n",
    "\n",
    "For the following array A consisting of N = 2 elements:\n",
    "\n",
    "    A[0] = 1\n",
    "    A[1] = 5\n",
    "\n",
    "the function should return 2.\n",
    "\n",
    "Write an efficient algorithm for the following assumptions:\n",
    "\n",
    "* N is an integer within the range [1..100,000];\n",
    "* each element of array A is an integer within the range [1..1,000,000,000];\n",
    "* the elements of A are all distinct."
   ]
  },
  {
   "cell_type": "code",
   "execution_count": 22,
   "metadata": {},
   "outputs": [
    {
     "data": {
      "text/plain": [
       "[15, 13, 5, 7, 4, 10, 12, 8, 2, 11, 6, 9, 3]"
      ]
     },
     "execution_count": 22,
     "metadata": {},
     "output_type": "execute_result"
    }
   ],
   "source": [
    "A = [0] * 13\n",
    "A[0] = 15\n",
    "A[1] = 13\n",
    "A[2] = 5\n",
    "A[3] = 7\n",
    "A[4] = 4\n",
    "A[5] = 10\n",
    "A[6] = 12\n",
    "A[7] = 8\n",
    "A[8] = 2\n",
    "A[9] = 11\n",
    "A[10] = 6\n",
    "A[11] = 9\n",
    "A[12] = 3\n",
    "A"
   ]
  },
  {
   "cell_type": "code",
   "execution_count": 23,
   "metadata": {},
   "outputs": [
    {
     "data": {
      "text/plain": [
       "['R', 'R', 'L', 'R', 'L', 'L', 'R', 'R', 'L', 'R', 'L', 'R']"
      ]
     },
     "execution_count": 23,
     "metadata": {},
     "output_type": "execute_result"
    }
   ],
   "source": [
    "direction = []\n",
    "for i in range(len(A)-1):\n",
    "    if A[i] < A[i+1]: direction.append('L')\n",
    "    elif A[i] > A[i+1]: direction.append('R')\n",
    "direction"
   ]
  },
  {
   "cell_type": "code",
   "execution_count": 24,
   "metadata": {},
   "outputs": [
    {
     "data": {
      "text/plain": [
       "(13, 12)"
      ]
     },
     "execution_count": 24,
     "metadata": {},
     "output_type": "execute_result"
    }
   ],
   "source": [
    "len(A), len(direction)"
   ]
  },
  {
   "cell_type": "code",
   "execution_count": 30,
   "metadata": {},
   "outputs": [
    {
     "data": {
      "text/plain": [
       "[1, 2, 3, 5, 7, 8, 9, 10]"
      ]
     },
     "execution_count": 30,
     "metadata": {},
     "output_type": "execute_result"
    }
   ],
   "source": [
    "turn_pt = []\n",
    "for i in range(len(A)-2):\n",
    "    if direction[i] != direction[i+1]:\n",
    "        turn_pt.append(i)\n",
    "turn_pt"
   ]
  },
  {
   "cell_type": "code",
   "execution_count": 40,
   "metadata": {},
   "outputs": [],
   "source": [
    "def solution(A):\n",
    "    direction = []\n",
    "    for i in range(len(A)-1):\n",
    "        if A[i] < A[i+1]: direction.append('L')\n",
    "        elif A[i] > A[i+1]: direction.append('R')\n",
    "            \n",
    "    turn_pt = []\n",
    "    for i in range(len(A)-2):\n",
    "        if direction[i] != direction[i+1]:\n",
    "            turn_pt.append(i)\n",
    "    \n",
    "    res = 0\n",
    "    # 0번 전환\n",
    "    L, R = A[0], A[0]\n",
    "    local_res = 0\n",
    "    for a in A:\n",
    "        if a >= L:\n",
    "            local_res += 1\n",
    "            L = a\n",
    "    res = max(res, local_res)\n",
    "\n",
    "    local_res = 0\n",
    "    for a in A:\n",
    "        if a <= R:\n",
    "            local_res += 1\n",
    "            R = a\n",
    "    res = max(res, local_res)\n",
    "    print(res)\n",
    "    # 1번 전환\n",
    "    for i in turn_pt:\n",
    "        local_res = 0\n",
    "        L, R = A[0], A[0]\n",
    "        # 먼저 왼쪽 가는 경우\n",
    "        for a in A[:i+1]:\n",
    "            if a >= L:\n",
    "                local_res += 1\n",
    "                L = a\n",
    "        for a in A[i+1:]:\n",
    "            if a <= L:\n",
    "                local_res += 1\n",
    "                L = a\n",
    "        res = max(res, local_res)\n",
    "    \n",
    "        local_res = 0\n",
    "        # 오른쪽\n",
    "        for a in A[:i+1]:\n",
    "            if a <= R:\n",
    "                local_res += 1\n",
    "                R = a\n",
    "        for a in A[i+1:]:\n",
    "            if a >= R:\n",
    "                local_res += 1\n",
    "                R = a\n",
    "        res = max(res, local_res)\n",
    "    print(res)\n",
    "    # 2번 전환    \n",
    "    for l in range(len(turn_pt)):\n",
    "        for m in range(i+1, len(turn_pt)):\n",
    "            i = turn_pt[l]\n",
    "            j = turn_pt[m]\n",
    "            local_res = 0\n",
    "            L, R = A[0], A[0]\n",
    "            # 먼저 왼쪽 가는 경우\n",
    "            for a in A[:i+1]:\n",
    "                if a >= L:\n",
    "                    local_res += 1\n",
    "                    L = a\n",
    "            for a in A[i+1:j+1]:\n",
    "                if a <= L:\n",
    "                    local_res += 1\n",
    "                    L = a\n",
    "            for a in A[j+1:]:\n",
    "                if a >= L:\n",
    "                    local_res += 1\n",
    "                    L = a\n",
    "            res = max(res, local_res)   \n",
    "            \n",
    "            # 오른쪽 가는 경우\n",
    "            local_res = 0\n",
    "            for a in A[:i+1]:\n",
    "                if a <= R:\n",
    "                    local_res += 1\n",
    "                    R = a\n",
    "            for a in A[i+1:j+1]:\n",
    "                if a >= R:\n",
    "                    local_res += 1\n",
    "                    R = a\n",
    "            for a in A[j+1:]:\n",
    "                if a <= R:\n",
    "                    local_res += 1\n",
    "                    R = a\n",
    "            res = max(res, local_res)        \n",
    "    print(res)\n",
    "    return res"
   ]
  },
  {
   "cell_type": "code",
   "execution_count": 41,
   "metadata": {},
   "outputs": [
    {
     "name": "stdout",
     "output_type": "stream",
     "text": [
      "5\n",
      "7\n",
      "7\n"
     ]
    },
    {
     "data": {
      "text/plain": [
       "7"
      ]
     },
     "execution_count": 41,
     "metadata": {},
     "output_type": "execute_result"
    }
   ],
   "source": [
    "solution(A)"
   ]
  },
  {
   "cell_type": "markdown",
   "metadata": {},
   "source": [
    "아... 첨부터 패스를 할 수가 있군요 "
   ]
  },
  {
   "cell_type": "code",
   "execution_count": null,
   "metadata": {},
   "outputs": [],
   "source": []
  }
 ],
 "metadata": {
  "kernelspec": {
   "display_name": "Python 3",
   "language": "python",
   "name": "python3"
  },
  "language_info": {
   "codemirror_mode": {
    "name": "ipython",
    "version": 3
   },
   "file_extension": ".py",
   "mimetype": "text/x-python",
   "name": "python",
   "nbconvert_exporter": "python",
   "pygments_lexer": "ipython3",
   "version": "3.7.3"
  }
 },
 "nbformat": 4,
 "nbformat_minor": 4
}
