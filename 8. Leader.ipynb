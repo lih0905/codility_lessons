{
 "cells": [
  {
   "cell_type": "markdown",
   "metadata": {},
   "source": [
    "# Chapter 8 : Leader\n",
    "\n",
    "The `leader` of a sequence is the element whose value occurs more than $\\frac n2$ times. How can we find the leader?\n",
    "\n",
    "## 8.1. Solution with $O(n^2)$ time complexity"
   ]
  },
  {
   "cell_type": "code",
   "execution_count": 44,
   "metadata": {},
   "outputs": [],
   "source": [
    "def slowLeader(A):\n",
    "    n = len(A)\n",
    "    leader = -1\n",
    "    for k in range(n):\n",
    "        candidate = A[k]\n",
    "        count = 0\n",
    "        for i in range(n):\n",
    "            if A[i]==candidate:\n",
    "                count += 1\n",
    "        if count > n // 2 :\n",
    "            leader = candidate\n",
    "    return leader"
   ]
  },
  {
   "cell_type": "markdown",
   "metadata": {},
   "source": [
    "## 8.2. Solution with $O(n\\log n)$ time complexity\n",
    "\n",
    "Note that if A is sorted and it has the leader, it must occur at index $\\frac n 2$."
   ]
  },
  {
   "cell_type": "code",
   "execution_count": 45,
   "metadata": {},
   "outputs": [],
   "source": [
    "def fastLeader(A):\n",
    "    n = len(A)\n",
    "    leader = -1\n",
    "    A.sort()\n",
    "    candidate = A[n//2]\n",
    "    count = 0\n",
    "    for i in range(n):\n",
    "        if A[i] == candidate:\n",
    "            count += 1\n",
    "    if count > n//2 :\n",
    "        leader = candidate\n",
    "    return leader\n",
    "    "
   ]
  },
  {
   "cell_type": "markdown",
   "metadata": {},
   "source": [
    "## 8.3. Solution with $O(n)$ time complexity\n",
    "\n",
    "Note that a sequence has a leader, then after removing a pair of elements of different values, the remaining seq. still has the same leader. To do this, we use stack."
   ]
  },
  {
   "cell_type": "code",
   "execution_count": 46,
   "metadata": {},
   "outputs": [],
   "source": [
    "def goldenLeader(A):\n",
    "    n = len(A)\n",
    "    size = 0\n",
    "    # Find the most occuring number .\n",
    "    for k in range(n):\n",
    "        if size==0:\n",
    "            size += 1\n",
    "            value = A[k]\n",
    "        else:\n",
    "            if value != A[k]:\n",
    "                size -= 1\n",
    "            else:\n",
    "                size += 1\n",
    "    candidate = -1\n",
    "    if size > 0 :\n",
    "        candidate = value\n",
    "    leader = -1\n",
    "    count = 0\n",
    "    for i in range(n):\n",
    "        if A[i] == candidate:\n",
    "            count += 1\n",
    "    if count > n//2 :\n",
    "        leader = candidate\n",
    "    return leader"
   ]
  },
  {
   "cell_type": "markdown",
   "metadata": {},
   "source": [
    "# Dominator\n",
    "\n",
    "An array A consisting of N integers is given. The dominator of array A is the value that occurs in more than half of the elements of A.\n",
    "\n",
    "For example, consider array A such that\n",
    "\n",
    "    A[0] = 3    A[1] = 4    A[2] =  3\n",
    "    A[3] = 2    A[4] = 3    A[5] = -1\n",
    "    A[6] = 3    A[7] = 3\n",
    "\n",
    "The dominator of A is 3 because it occurs in 5 out of 8 elements of A (namely in those with indices 0, 2, 4, 6 and 7) and 5 is more than a half of 8.\n",
    "\n",
    "Write a function\n",
    "\n",
    "    def solution(A)\n",
    "\n",
    "that, given an array A consisting of N integers, returns index of any element of array A in which the dominator of A occurs. The function should return −1 if array A does not have a dominator.\n",
    "\n",
    "For example, given array A such that\n",
    "\n",
    "    A[0] = 3    A[1] = 4    A[2] =  3\n",
    "    A[3] = 2    A[4] = 3    A[5] = -1\n",
    "    A[6] = 3    A[7] = 3\n",
    "    \n",
    "the function may return 0, 2, 4, 6 or 7, as explained above.\n",
    "\n",
    "Write an efficient algorithm for the following assumptions:\n",
    "\n",
    "* N is an integer within the range [0..100,000];\n",
    "* each element of array A is an integer within the range [−2,147,483,648..2,147,483,647]."
   ]
  },
  {
   "cell_type": "code",
   "execution_count": 13,
   "metadata": {},
   "outputs": [],
   "source": [
    "from collections import Counter"
   ]
  },
  {
   "cell_type": "code",
   "execution_count": 17,
   "metadata": {},
   "outputs": [
    {
     "data": {
      "text/plain": [
       "[(3, 5)]"
      ]
     },
     "execution_count": 17,
     "metadata": {},
     "output_type": "execute_result"
    }
   ],
   "source": [
    "cnt = Counter(A)\n",
    "cnt.most_common(1)"
   ]
  },
  {
   "cell_type": "code",
   "execution_count": 43,
   "metadata": {},
   "outputs": [],
   "source": [
    "from collections import Counter\n",
    "\n",
    "def solution(A):\n",
    "    # Return -1 if A is empty.\n",
    "    if len(A)==0:\n",
    "        return -1\n",
    "    most_cnt = Counter(A).most_common(1)[0][1] # the maximun occurences of a number\n",
    "    most = Counter(A).most_common(1)[0][0] # the maximum occured number\n",
    "    if most_cnt > len(A)/2:\n",
    "        for i in range(len(A)):\n",
    "            if A[i]==most: return i # return an index of A such that A[i] = most\n",
    "    return -1"
   ]
  },
  {
   "cell_type": "code",
   "execution_count": 27,
   "metadata": {},
   "outputs": [
    {
     "data": {
      "text/plain": [
       "0"
      ]
     },
     "execution_count": 27,
     "metadata": {},
     "output_type": "execute_result"
    }
   ],
   "source": [
    "solution(A)"
   ]
  },
  {
   "cell_type": "markdown",
   "metadata": {},
   "source": [
    "https://app.codility.com/demo/results/trainingK246V6-BGG/\n",
    "\n",
    "100점!"
   ]
  },
  {
   "cell_type": "code",
   "execution_count": 31,
   "metadata": {},
   "outputs": [],
   "source": [
    "# Counter를 직접 구현해보자.\n",
    "from collections import defaultdict\n",
    "\n",
    "def counting(A):\n",
    "    cnt = defaultdict(int)\n",
    "    for i in A:\n",
    "        cnt[i]+=1\n",
    "    return cnt"
   ]
  },
  {
   "cell_type": "code",
   "execution_count": 38,
   "metadata": {},
   "outputs": [],
   "source": [
    "cnt = counting(A)\n",
    "max_cnt = 0\n",
    "max_ind = -1\n",
    "for index, value in cnt.items():\n",
    "    if value > max_cnt:\n",
    "        max_cnt = value\n",
    "        max_ind = index"
   ]
  },
  {
   "cell_type": "code",
   "execution_count": 39,
   "metadata": {},
   "outputs": [
    {
     "data": {
      "text/plain": [
       "(5, 3)"
      ]
     },
     "execution_count": 39,
     "metadata": {},
     "output_type": "execute_result"
    }
   ],
   "source": [
    "max_cnt, max_ind"
   ]
  },
  {
   "cell_type": "code",
   "execution_count": 40,
   "metadata": {},
   "outputs": [],
   "source": [
    "def solution(A):\n",
    "    if len(A) == 0: return -1\n",
    "\n",
    "    cnt = counting(A)\n",
    "    max_cnt = 0\n",
    "    max_ind = -1\n",
    "    for index, value in cnt.items():\n",
    "        if value > max_cnt:\n",
    "            max_cnt = value\n",
    "            max_ind = index\n",
    "            \n",
    "    if max_cnt > len(A)/2:\n",
    "        for i in range(len(A)):\n",
    "            if A[i]==max_ind: return i\n",
    "    return -1"
   ]
  },
  {
   "cell_type": "code",
   "execution_count": 42,
   "metadata": {},
   "outputs": [
    {
     "data": {
      "text/plain": [
       "0"
      ]
     },
     "execution_count": 42,
     "metadata": {},
     "output_type": "execute_result"
    }
   ],
   "source": [
    "solution(A)"
   ]
  },
  {
   "cell_type": "markdown",
   "metadata": {},
   "source": [
    "https://app.codility.com/demo/results/trainingNCE7ZY-SDS/\n",
    "\n",
    "이렇게 해도 100점!"
   ]
  },
  {
   "cell_type": "markdown",
   "metadata": {},
   "source": [
    "해설의 풀이를 써보자."
   ]
  },
  {
   "cell_type": "code",
   "execution_count": 47,
   "metadata": {},
   "outputs": [],
   "source": [
    "def solution(A):\n",
    "    n = len(A)\n",
    "    size = 0\n",
    "    # Find the most occuring number .\n",
    "    for k in range(n):\n",
    "        if size==0:\n",
    "            size += 1\n",
    "            value = A[k]\n",
    "        else:\n",
    "            if value != A[k]:\n",
    "                size -= 1\n",
    "            else:\n",
    "                size += 1\n",
    "    candidate = -1\n",
    "    if size > 0 :\n",
    "        candidate = value\n",
    "\n",
    "    count = 0\n",
    "    for i in range(n):\n",
    "        if A[i] == candidate:\n",
    "            ind = i\n",
    "            count += 1\n",
    "    if count > n//2 :\n",
    "        return ind\n",
    "    return -1"
   ]
  },
  {
   "cell_type": "code",
   "execution_count": 48,
   "metadata": {},
   "outputs": [
    {
     "data": {
      "text/plain": [
       "7"
      ]
     },
     "execution_count": 48,
     "metadata": {},
     "output_type": "execute_result"
    }
   ],
   "source": [
    "solution(A)"
   ]
  },
  {
   "cell_type": "markdown",
   "metadata": {},
   "source": [
    "https://app.codility.com/demo/results/trainingHRM6F5-5ZM/\n",
    "\n",
    "역시 100점!"
   ]
  },
  {
   "cell_type": "code",
   "execution_count": null,
   "metadata": {},
   "outputs": [],
   "source": []
  }
 ],
 "metadata": {
  "kernelspec": {
   "display_name": "Python 3",
   "language": "python",
   "name": "python3"
  },
  "language_info": {
   "codemirror_mode": {
    "name": "ipython",
    "version": 3
   },
   "file_extension": ".py",
   "mimetype": "text/x-python",
   "name": "python",
   "nbconvert_exporter": "python",
   "pygments_lexer": "ipython3",
   "version": "3.7.3"
  }
 },
 "nbformat": 4,
 "nbformat_minor": 4
}
