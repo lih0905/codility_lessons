{
 "cells": [
  {
   "cell_type": "markdown",
   "metadata": {},
   "source": [
    "# Chapter 10 : Prime and composite numbers\n",
    "\n",
    "## 10.1. Counting divisors"
   ]
  },
  {
   "cell_type": "code",
   "execution_count": 3,
   "metadata": {},
   "outputs": [],
   "source": [
    "# O(\\sqrt(n))\n",
    "\n",
    "def divisors(n):\n",
    "    i = 1\n",
    "    result = 0\n",
    "    while (i * i < n):\n",
    "        if n % i == 0:\n",
    "            result += 2\n",
    "        i+=1\n",
    "    if i * i == n:\n",
    "        result += 1\n",
    "    return result"
   ]
  },
  {
   "cell_type": "code",
   "execution_count": 6,
   "metadata": {},
   "outputs": [
    {
     "data": {
      "text/plain": [
       "4"
      ]
     },
     "execution_count": 6,
     "metadata": {},
     "output_type": "execute_result"
    }
   ],
   "source": [
    "divisors(6)"
   ]
  },
  {
   "cell_type": "markdown",
   "metadata": {},
   "source": [
    "## 10.2. Primality test"
   ]
  },
  {
   "cell_type": "code",
   "execution_count": 10,
   "metadata": {},
   "outputs": [],
   "source": [
    "def primality(n):\n",
    "    i=2\n",
    "    while i * i < n:\n",
    "        if n % i == 0:\n",
    "            return False\n",
    "        i += 1\n",
    "    if i * i == n:\n",
    "        return False\n",
    "    return True"
   ]
  },
  {
   "cell_type": "code",
   "execution_count": 12,
   "metadata": {},
   "outputs": [
    {
     "data": {
      "text/plain": [
       "(True, False)"
      ]
     },
     "execution_count": 12,
     "metadata": {},
     "output_type": "execute_result"
    }
   ],
   "source": [
    "primality(3), primality(9)"
   ]
  },
  {
   "cell_type": "markdown",
   "metadata": {},
   "source": [
    "## 10.3. Exercises"
   ]
  },
  {
   "cell_type": "code",
   "execution_count": 22,
   "metadata": {},
   "outputs": [],
   "source": [
    "# O(nlogn)\n",
    "\n",
    "def coins(n):\n",
    "    result = 0\n",
    "    coin = [0] * (n+1)\n",
    "    for i in range(1,n+1):\n",
    "        k = i\n",
    "        while k <= n :\n",
    "            coin[k] = (coin[k]+1)%2\n",
    "            k+=i\n",
    "        result += coin[i]\n",
    "    print(coin)\n",
    "    return result"
   ]
  },
  {
   "cell_type": "code",
   "execution_count": 23,
   "metadata": {},
   "outputs": [
    {
     "name": "stdout",
     "output_type": "stream",
     "text": [
      "[0, 1, 0, 0, 1, 0, 0, 0, 0, 1, 0]\n"
     ]
    },
    {
     "data": {
      "text/plain": [
       "3"
      ]
     },
     "execution_count": 23,
     "metadata": {},
     "output_type": "execute_result"
    }
   ],
   "source": [
    "coins(10)"
   ]
  },
  {
   "cell_type": "markdown",
   "metadata": {},
   "source": [
    "그런데 실은 $O(\\log n)$의 방법이 있다. 각각의 동전은 약수 갯수만큼 뒤집어 지므로 약수의 갯수가 홀수개인 숫자의 갯수를 세면 된다. 그런데 이런 애들은 제곱수 뿐! 따라서 $floor(\\sqrt{n})$ 구하면 됨"
   ]
  },
  {
   "cell_type": "markdown",
   "metadata": {},
   "source": [
    "# CountFactors\n",
    "\n",
    "A positive integer D is a factor of a positive integer N if there exists an integer M such that N = D * M.\n",
    "\n",
    "For example, 6 is a factor of 24, because M = 4 satisfies the above condition (24 = 6 * 4).\n",
    "\n",
    "Write a function:\n",
    "\n",
    "    def solution(N)\n",
    "\n",
    "that, given a positive integer N, returns the number of its factors.\n",
    "\n",
    "For example, given N = 24, the function should return 8, because 24 has 8 factors, namely 1, 2, 3, 4, 6, 8, 12, 24. There are no other factors of 24.\n",
    "\n",
    "Write an efficient algorithm for the following assumptions:\n",
    "\n",
    "* N is an integer within the range [1..2,147,483,647]."
   ]
  },
  {
   "cell_type": "markdown",
   "metadata": {},
   "source": [
    "초딩 풀이 간다"
   ]
  },
  {
   "cell_type": "code",
   "execution_count": 28,
   "metadata": {},
   "outputs": [],
   "source": [
    "def solution(n):\n",
    "    i=1\n",
    "    result = 0\n",
    "    while i*i < n:\n",
    "        if n % i == 0:\n",
    "            result +=2\n",
    "        i += 1\n",
    "    if i*i == n:\n",
    "        result +=1\n",
    "        \n",
    "    return result"
   ]
  },
  {
   "cell_type": "code",
   "execution_count": 27,
   "metadata": {},
   "outputs": [
    {
     "data": {
      "text/plain": [
       "8"
      ]
     },
     "execution_count": 27,
     "metadata": {},
     "output_type": "execute_result"
    }
   ],
   "source": [
    "solution(24)"
   ]
  },
  {
   "cell_type": "markdown",
   "metadata": {},
   "source": [
    "https://app.codility.com/demo/results/trainingJDQ8TC-CZM/\n",
    "\n",
    "엥 100점"
   ]
  },
  {
   "cell_type": "markdown",
   "metadata": {},
   "source": [
    "# Flags\n",
    "\n",
    "A non-empty array A consisting of N integers is given.\n",
    "\n",
    "A peak is an array element which is larger than its neighbours. More precisely, it is an index P such that 0 < P < N − 1 and A[P − 1] < A[P] > A[P + 1].\n",
    "\n",
    "For example, the following array A:\n",
    "\n",
    "    A[0] = 1\n",
    "    A[1] = 5\n",
    "    A[2] = 3\n",
    "    A[3] = 4\n",
    "    A[4] = 3\n",
    "    A[5] = 4\n",
    "    A[6] = 1\n",
    "    A[7] = 2\n",
    "    A[8] = 3\n",
    "    A[9] = 4\n",
    "    A[10] = 6\n",
    "    A[11] = 2\n",
    "    \n",
    "has exactly four peaks: elements 1, 3, 5 and 10.\n",
    "\n",
    "You are going on a trip to a range of mountains whose relative heights are represented by array A, as shown in a figure below. You have to choose how many flags you should take with you. The goal is to set the maximum number of flags on the peaks, according to certain rules.\n",
    "\n",
    "![peak](https://codility-frontend-prod.s3.amazonaws.com/media/task_static/flags/static/images/auto/6f5e8faa3000c0a74157e6e0bc759b8a.png)\n",
    "\n",
    "Flags can only be set on peaks. What's more, if you take K flags, then the distance between any two flags should be greater than or equal to K. The distance between indices P and Q is the absolute value |P − Q|.\n",
    "\n",
    "For example, given the mountain range represented by array A, above, with N = 12, if you take:\n",
    "\n",
    "* two flags, you can set them on peaks 1 and 5;\n",
    "* three flags, you can set them on peaks 1, 5 and 10;\n",
    "* four flags, you can set only three flags, on peaks 1, 5 and 10.\n",
    "\n",
    "You can therefore set a maximum of three flags in this case.\n",
    "\n",
    "Write a function:\n",
    "\n",
    "    def solution(A)\n",
    "\n",
    "that, given a non-empty array A of N integers, returns the maximum number of flags that can be set on the peaks of the array.\n",
    "\n",
    "For example, the following array A:\n",
    "\n",
    "    A[0] = 1\n",
    "    A[1] = 5\n",
    "    A[2] = 3\n",
    "    A[3] = 4\n",
    "    A[4] = 3\n",
    "    A[5] = 4\n",
    "    A[6] = 1\n",
    "    A[7] = 2\n",
    "    A[8] = 3\n",
    "    A[9] = 4\n",
    "    A[10] = 6\n",
    "    A[11] = 2\n",
    "    \n",
    "the function should return 3, as explained above.\n",
    "\n",
    "Write an efficient algorithm for the following assumptions:\n",
    "\n",
    "* N is an integer within the range [1..400,000];\n",
    "* each element of array A is an integer within the range [0..1,000,000,000]."
   ]
  },
  {
   "cell_type": "code",
   "execution_count": 60,
   "metadata": {},
   "outputs": [
    {
     "data": {
      "text/plain": [
       "[1, 5, 3, 4, 3, 4, 1, 2, 3, 4, 6, 2]"
      ]
     },
     "execution_count": 60,
     "metadata": {},
     "output_type": "execute_result"
    }
   ],
   "source": [
    "A = [0]*12\n",
    "A[0] = 1\n",
    "A[1] = 5\n",
    "A[2] = 3\n",
    "A[3] = 4\n",
    "A[4] = 3\n",
    "A[5] = 4\n",
    "A[6] = 1\n",
    "A[7] = 2\n",
    "A[8] = 3\n",
    "A[9] = 4\n",
    "A[10] = 6\n",
    "A[11] = 2\n",
    "A"
   ]
  },
  {
   "cell_type": "code",
   "execution_count": 61,
   "metadata": {},
   "outputs": [],
   "source": [
    "def peaks_list(A):\n",
    "    n = len(A)\n",
    "    peaks = [0] * n\n",
    "    for i in range(1,len(A)-1):\n",
    "        if A[i]>A[i-1] and A[i]>A[i+1]:\n",
    "            peaks[i] = 1\n",
    "    return peaks"
   ]
  },
  {
   "cell_type": "code",
   "execution_count": 62,
   "metadata": {},
   "outputs": [
    {
     "data": {
      "text/plain": [
       "[0, 1, 0, 1, 0, 1, 0, 0, 0, 0, 1, 0]"
      ]
     },
     "execution_count": 62,
     "metadata": {},
     "output_type": "execute_result"
    }
   ],
   "source": [
    "peaks_list(A)"
   ]
  },
  {
   "cell_type": "code",
   "execution_count": 63,
   "metadata": {},
   "outputs": [],
   "source": [
    "def check_peak(x, A, peaks):\n",
    "    n = len(A)\n",
    "    pos = 0\n",
    "    flags = x\n",
    "    while pos < n and flags > 0:\n",
    "        if peaks[pos]:\n",
    "            flags -= 1\n",
    "            pos += x\n",
    "        else:\n",
    "            pos += 1\n",
    "        \n",
    "    return flags == 0        "
   ]
  },
  {
   "cell_type": "code",
   "execution_count": 64,
   "metadata": {},
   "outputs": [],
   "source": [
    "peaks = peaks_list(A)"
   ]
  },
  {
   "cell_type": "code",
   "execution_count": 71,
   "metadata": {},
   "outputs": [
    {
     "data": {
      "text/plain": [
       "True"
      ]
     },
     "execution_count": 71,
     "metadata": {},
     "output_type": "execute_result"
    }
   ],
   "source": [
    "check_peak(3,A,peaks)"
   ]
  },
  {
   "cell_type": "code",
   "execution_count": 74,
   "metadata": {},
   "outputs": [],
   "source": [
    "def solution(A):\n",
    "    import math\n",
    "    n = len(A)\n",
    "    peaks = peaks_list(A)\n",
    "    m = math.ceil(math.sqrt(n))\n",
    "    for x in range(m,0,-1):\n",
    "        if check_peak(x,A,peaks):\n",
    "            return x\n",
    "    return 0"
   ]
  },
  {
   "cell_type": "code",
   "execution_count": 73,
   "metadata": {},
   "outputs": [
    {
     "data": {
      "text/plain": [
       "3"
      ]
     },
     "execution_count": 73,
     "metadata": {},
     "output_type": "execute_result"
    }
   ],
   "source": [
    "solution(A)"
   ]
  },
  {
   "cell_type": "markdown",
   "metadata": {},
   "source": [
    "https://app.codility.com/demo/results/trainingJWJDWS-Q9J/\n",
    "\n",
    "80점 $O(N \\log N)$"
   ]
  },
  {
   "cell_type": "code",
   "execution_count": 75,
   "metadata": {},
   "outputs": [],
   "source": [
    "def next_peak(A, peaks):\n",
    "    N = len(A)\n",
    "    nxt = [0] * N\n",
    "    nxt[N-1] = -1\n",
    "    for i in range(N-2, -1, -1):\n",
    "        if peaks[i]:\n",
    "            nxt[i] = i\n",
    "        else:\n",
    "            nxt[i] = nxt[i+1]\n",
    "    return nxt"
   ]
  },
  {
   "cell_type": "code",
   "execution_count": 77,
   "metadata": {},
   "outputs": [],
   "source": [
    "def solution(A):\n",
    "    N = len(A)\n",
    "    peaks = peaks_list(A)\n",
    "    nxt = next_peak(A, peaks)\n",
    "    i = 1\n",
    "    res = 0\n",
    "    while (i-1)*i <= N:\n",
    "        pos = 0\n",
    "        num = 0\n",
    "        while pos < N and num < i: # flags 갯수가 i\n",
    "            pos = nxt[pos] # 다음 peak\n",
    "            if pos == -1: # 이후에 없으면 종료\n",
    "                break\n",
    "            num += 1\n",
    "            pos += i # flags 갯수만큼 점프\n",
    "        res = max(res, num)\n",
    "        i += 1\n",
    "    return res"
   ]
  },
  {
   "cell_type": "markdown",
   "metadata": {},
   "source": [
    "https://app.codility.com/demo/results/training4JKYC9-PBK/\n",
    "\n",
    "100점.. 어렵다..."
   ]
  },
  {
   "cell_type": "markdown",
   "metadata": {},
   "source": [
    "# MinPerimeterRectangle\n",
    "\n",
    "An integer N is given, representing the area of some rectangle.\n",
    "\n",
    "The area of a rectangle whose sides are of length A and B is A * B, and the perimeter is 2 * (A + B).\n",
    "\n",
    "The goal is to find the minimal perimeter of any rectangle whose area equals N. The sides of this rectangle should be only integers.\n",
    "\n",
    "For example, given integer N = 30, rectangles of area 30 are:\n",
    "\n",
    "* (1, 30), with a perimeter of 62,\n",
    "* (2, 15), with a perimeter of 34,\n",
    "* (3, 10), with a perimeter of 26,\n",
    "* (5, 6), with a perimeter of 22.\n",
    "\n",
    "Write a function:\n",
    "\n",
    "    def solution(N)\n",
    "\n",
    "that, given an integer N, returns the minimal perimeter of any rectangle whose area is exactly equal to N.\n",
    "\n",
    "For example, given an integer N = 30, the function should return 22, as explained above.\n",
    "\n",
    "Write an efficient algorithm for the following assumptions:\n",
    "\n",
    "* N is an integer within the range [1..1,000,000,000]."
   ]
  },
  {
   "cell_type": "code",
   "execution_count": 32,
   "metadata": {},
   "outputs": [],
   "source": [
    "def solution(n):\n",
    "    import math\n",
    "    sqr = math.floor(math.sqrt(n))\n",
    "\n",
    "    for i in range(sqr+1,0,-1):\n",
    "        if n % i == 0:\n",
    "            return 2*(i + n//i)"
   ]
  },
  {
   "cell_type": "code",
   "execution_count": 34,
   "metadata": {},
   "outputs": [
    {
     "data": {
      "text/plain": [
       "22"
      ]
     },
     "execution_count": 34,
     "metadata": {},
     "output_type": "execute_result"
    }
   ],
   "source": [
    "solution(30)"
   ]
  },
  {
   "cell_type": "markdown",
   "metadata": {},
   "source": [
    "https://app.codility.com/demo/results/training87F5E7-Z9V/\n",
    "\n",
    "100점"
   ]
  },
  {
   "cell_type": "markdown",
   "metadata": {},
   "source": [
    "# Peaks\n",
    "\n",
    "A non-empty array A consisting of N integers is given.\n",
    "\n",
    "A peak is an array element which is larger than its neighbors. More precisely, it is an index P such that 0 < P < N − 1,  A[P − 1] < A[P] and A[P] > A[P + 1].\n",
    "\n",
    "For example, the following array A:\n",
    "\n",
    "    A[0] = 1\n",
    "    A[1] = 2\n",
    "    A[2] = 3\n",
    "    A[3] = 4\n",
    "    A[4] = 3\n",
    "    A[5] = 4\n",
    "    A[6] = 1\n",
    "    A[7] = 2\n",
    "    A[8] = 3\n",
    "    A[9] = 4\n",
    "    A[10] = 6\n",
    "    A[11] = 2\n",
    "    \n",
    "has exactly three peaks: 3, 5, 10.\n",
    "\n",
    "We want to divide this array into blocks containing the same number of elements. More precisely, we want to choose a number K that will yield the following blocks:\n",
    "\n",
    "* A[0], A[1], ..., A[K − 1],\n",
    "* A[K], A[K + 1], ..., A[2K − 1],\n",
    "...\n",
    "* A[N − K], A[N − K + 1], ..., A[N − 1].\n",
    "\n",
    "What's more, every block should contain at least one peak. Notice that extreme elements of the blocks (for example A[K − 1] or A[K]) can also be peaks, but only if they have both neighbors (including one in an adjacent blocks).\n",
    "\n",
    "The goal is to find the maximum number of blocks into which the array A can be divided.\n",
    "\n",
    "Array A can be divided into blocks as follows:\n",
    "\n",
    "* one block (1, 2, 3, 4, 3, 4, 1, 2, 3, 4, 6, 2). This block contains three peaks.\n",
    "* two blocks (1, 2, 3, 4, 3, 4) and (1, 2, 3, 4, 6, 2). Every block has a peak.\n",
    "* three blocks (1, 2, 3, 4), (3, 4, 1, 2), (3, 4, 6, 2). Every block has a peak. Notice in particular that the first block (1, 2, 3, 4) has a peak at A[3], because A[2] < A[3] > A[4], even though A[4] is in the adjacent block.\n",
    "\n",
    "However, array A cannot be divided into four blocks, (1, 2, 3), (4, 3, 4), (1, 2, 3) and (4, 6, 2), because the (1, 2, 3) blocks do not contain a peak. Notice in particular that the (4, 3, 4) block contains two peaks: A[3] and A[5].\n",
    "\n",
    "The maximum number of blocks that array A can be divided into is three.\n",
    "\n",
    "Write a function:\n",
    "\n",
    "    def solution(A)\n",
    "\n",
    "that, given a non-empty array A consisting of N integers, returns the maximum number of blocks into which A can be divided.\n",
    "\n",
    "If A cannot be divided into some number of blocks, the function should return 0.\n",
    "\n",
    "For example, given:\n",
    "\n",
    "    A[0] = 1\n",
    "    A[1] = 2\n",
    "    A[2] = 3\n",
    "    A[3] = 4\n",
    "    A[4] = 3\n",
    "    A[5] = 4\n",
    "    A[6] = 1\n",
    "    A[7] = 2\n",
    "    A[8] = 3\n",
    "    A[9] = 4\n",
    "    A[10] = 6\n",
    "    A[11] = 2\n",
    "\n",
    "the function should return 3, as explained above.\n",
    "\n",
    "Write an efficient algorithm for the following assumptions:\n",
    "\n",
    "* N is an integer within the range [1..100,000];\n",
    "* each element of array A is an integer within the range [0..1,000,000,000]."
   ]
  },
  {
   "cell_type": "code",
   "execution_count": 2,
   "metadata": {},
   "outputs": [
    {
     "data": {
      "text/plain": [
       "[1, 2, 3, 4, 3, 4, 1, 2, 3, 4, 6, 2]"
      ]
     },
     "execution_count": 2,
     "metadata": {},
     "output_type": "execute_result"
    }
   ],
   "source": [
    "A = [0]*12\n",
    "A[0] = 1\n",
    "A[1] = 2\n",
    "A[2] = 3\n",
    "A[3] = 4\n",
    "A[4] = 3\n",
    "A[5] = 4\n",
    "A[6] = 1\n",
    "A[7] = 2\n",
    "A[8] = 3\n",
    "A[9] = 4\n",
    "A[10] = 6\n",
    "A[11] = 2\n",
    "A"
   ]
  },
  {
   "cell_type": "code",
   "execution_count": 27,
   "metadata": {},
   "outputs": [
    {
     "data": {
      "text/plain": [
       "[3, 5, 10]"
      ]
     },
     "execution_count": 27,
     "metadata": {},
     "output_type": "execute_result"
    }
   ],
   "source": [
    "peaks(A)"
   ]
  },
  {
   "cell_type": "code",
   "execution_count": 24,
   "metadata": {},
   "outputs": [],
   "source": [
    "def solution(A):\n",
    "    def peaks(A):\n",
    "        peaks = []\n",
    "        for i in range(1,len(A)-1):\n",
    "            if A[i]>A[i-1] and A[i]>A[i+1]:\n",
    "                peaks.append(i)\n",
    "        return peaks\n",
    "    \n",
    "    n = len(A)\n",
    "    peak = set(peaks(A))\n",
    "    \n",
    "    if len(peak)==0: return 0\n",
    "    \n",
    "    for i in range(len(peak),0,-1): # 블럭의 갯수 후보\n",
    "        if n % i == 0: # 후보가 전체 길이를 나눌 때만 가능\n",
    "            k = n // i # 블럭별 원소 갯수\n",
    "            for j in range(i): # 블럭마다 루프를 돈다\n",
    "#                print(A[j:j+k])\n",
    "                if not peak.intersection(set(A[j:j+k])): # 블럭과 peak의 교집합이 없으면 \n",
    "                    break\n",
    "            return i\n",
    "    return 0"
   ]
  },
  {
   "cell_type": "code",
   "execution_count": 25,
   "metadata": {},
   "outputs": [
    {
     "data": {
      "text/plain": [
       "(3, 0)"
      ]
     },
     "execution_count": 25,
     "metadata": {},
     "output_type": "execute_result"
    }
   ],
   "source": [
    "solution(A), solution([5])"
   ]
  },
  {
   "cell_type": "markdown",
   "metadata": {},
   "source": [
    "https://app.codility.com/demo/results/trainingAT4K9P-6X9/\n",
    "\n",
    "72점??"
   ]
  },
  {
   "cell_type": "code",
   "execution_count": 40,
   "metadata": {},
   "outputs": [
    {
     "name": "stdout",
     "output_type": "stream",
     "text": [
      "range(0, 2)\n",
      "range(2, 4)\n",
      "range(4, 6)\n",
      "range(6, 8)\n",
      "range(8, 10)\n",
      "range(10, 12)\n",
      "range(12, 14)\n",
      "range(14, 16)\n",
      "range(16, 18)\n",
      "range(18, 20)\n",
      "range(20, 22)\n",
      "range(22, 24)\n",
      "----------\n",
      "range(0, 3)\n",
      "range(3, 6)\n",
      "range(6, 9)\n",
      "range(9, 12)\n",
      "range(12, 15)\n",
      "range(15, 18)\n",
      "range(18, 21)\n",
      "range(21, 24)\n",
      "----------\n",
      "range(0, 4)\n",
      "range(4, 8)\n",
      "range(8, 12)\n",
      "range(12, 16)\n",
      "range(16, 20)\n",
      "range(20, 24)\n",
      "----------\n",
      "range(0, 6)\n",
      "range(6, 12)\n",
      "range(12, 18)\n",
      "range(18, 24)\n",
      "----------\n",
      "range(0, 8)\n",
      "range(8, 16)\n",
      "range(16, 24)\n",
      "----------\n",
      "range(0, 12)\n",
      "range(12, 24)\n",
      "----------\n",
      "range(0, 24)\n",
      "----------\n"
     ]
    }
   ],
   "source": [
    "n = 24\n",
    "for i in range(23, 0 , -1):\n",
    "    if n % i == 0:\n",
    "        k = n // i\n",
    "        for j in range(i):\n",
    "            print(range(k*j, k*j+k))\n",
    "        print('----------')"
   ]
  },
  {
   "cell_type": "code",
   "execution_count": 22,
   "metadata": {},
   "outputs": [],
   "source": [
    "def solution(A):\n",
    "    def peaks(A):\n",
    "        peaks = []\n",
    "        for i in range(1,len(A)-1):\n",
    "            if A[i]>A[i-1] and A[i]>A[i+1]:\n",
    "                peaks.append(i)\n",
    "        return peaks\n",
    "    \n",
    "    n = len(A)\n",
    "    peak = set(peaks(A))\n",
    "    \n",
    "    if len(peak)==0: return 0\n",
    "\n",
    "    for i in range(len(peak),0,-1): # 블럭의 갯수 후보\n",
    "        if n % i == 0: # 후보가 전체 길이를 나눌 때만 가능\n",
    "            k = n // i # 블럭별 원소 갯수\n",
    "            if all(peak.intersection(set(range(k*j,k*j+k))) for j in range(i)):\n",
    "                # 모든 블럭이 peak를 가지고 있으면 i 반환\n",
    "                return i\n",
    "    return 0"
   ]
  },
  {
   "cell_type": "markdown",
   "metadata": {},
   "source": [
    "https://app.codility.com/demo/results/trainingCZSA49-7KX/\n",
    "\n",
    "100점?!"
   ]
  },
  {
   "cell_type": "code",
   "execution_count": null,
   "metadata": {},
   "outputs": [],
   "source": []
  }
 ],
 "metadata": {
  "kernelspec": {
   "display_name": "Python 3",
   "language": "python",
   "name": "python3"
  },
  "language_info": {
   "codemirror_mode": {
    "name": "ipython",
    "version": 3
   },
   "file_extension": ".py",
   "mimetype": "text/x-python",
   "name": "python",
   "nbconvert_exporter": "python",
   "pygments_lexer": "ipython3",
   "version": "3.7.3"
  }
 },
 "nbformat": 4,
 "nbformat_minor": 4
}
