{
 "cells": [
  {
   "cell_type": "markdown",
   "metadata": {},
   "source": [
    "# Exericse\n",
    "\n",
    "You are given a non-empty, zero-indexed array $A$ of $n$ ($1\\le n \\le 100000$) intergers $a_o, \\ldots, a_{n-1}$ ($0\\le a_i \\le 1000$). You are also given integers $k$ and $m$ ($0 \\le k, m < n$). The goal is to calculate the maximum number of mushrooms that the mushroom\n",
    "picker who starts at spot number $k$ can collect in $m$ moves."
   ]
  },
  {
   "cell_type": "code",
   "execution_count": null,
   "metadata": {},
   "outputs": [],
   "source": []
  }
 ],
 "metadata": {
  "kernelspec": {
   "display_name": "Python 3",
   "language": "python",
   "name": "python3"
  },
  "language_info": {
   "codemirror_mode": {
    "name": "ipython",
    "version": 3
   },
   "file_extension": ".py",
   "mimetype": "text/x-python",
   "name": "python",
   "nbconvert_exporter": "python",
   "pygments_lexer": "ipython3",
   "version": "3.7.3"
  }
 },
 "nbformat": 4,
 "nbformat_minor": 4
}
