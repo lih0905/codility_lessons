{
 "cells": [
  {
   "cell_type": "markdown",
   "metadata": {},
   "source": [
    "# 7.1. Stack\n",
    "\n",
    "The stack is a basic data structure in which the insertion of new elements takes place at the top and deletion of elements also takes place from the top."
   ]
  },
  {
   "cell_type": "code",
   "execution_count": 1,
   "metadata": {},
   "outputs": [],
   "source": [
    "# Push / pop function - O(1)\n",
    "N = 10\n",
    "stack = [0] * N\n",
    "size = 0\n",
    "def push(x):\n",
    "    global size\n",
    "    stack[size] = x\n",
    "    size += 1\n",
    "def pop():\n",
    "    global size\n",
    "    size -= 1\n",
    "    return stack[size]"
   ]
  },
  {
   "cell_type": "markdown",
   "metadata": {},
   "source": [
    "# 7.2. Queue\n",
    "\n",
    "The queue is a basic data structure in which new elements are inserted at the back but old elements are removed from the front."
   ]
  },
  {
   "cell_type": "code",
   "execution_count": null,
   "metadata": {},
   "outputs": [],
   "source": [
    "# Push / pop / size / empty fucntion - O(1)\n",
    "N = 10\n",
    "queue = [0] * N\n",
    "head, tail = 0, 0\n",
    "def push(x):\n",
    "    global tail\n",
    "    tail = (tail+1) % N\n",
    "    queue[tail] = x\n",
    "def pop():\n",
    "    global head\n",
    "    head = (head +1) % N\n",
    "    return queue[head]\n",
    "def size():\n",
    "    return (tail - head + N) % N\n",
    "def empty():\n",
    "    return head == tail"
   ]
  },
  {
   "cell_type": "markdown",
   "metadata": {},
   "source": [
    "The push function adds an element to the queue. The pop function removes and returns an element from the front of the queue (we shouldn’t perform a pop operation on an empty queue). The empty function check whether the queue is empty and the size function returns the number of elements in the queue."
   ]
  },
  {
   "cell_type": "markdown",
   "metadata": {},
   "source": [
    "# 7.3. Exercises\n",
    "\n",
    "You are given a zero-indexed array A consisting of n integers: $a_0, a_1, \\ldots, a_{n−1}$. Array $A$ represents a scenario in a grocery store, and contains only $0$s and/or $1$s:\n",
    "\n",
    "* 0 represents the action of a new person joining the line in the grocery store,\n",
    "* 1 represents the action of the person at the front of the queue being served and leaving the line.\n",
    "\n",
    "The goal is to count the minimum number of people who should have been in the line before the above scenario, so that the scenario is possible (it is not possible to serve a person if the line is empty)."
   ]
  },
  {
   "cell_type": "code",
   "execution_count": null,
   "metadata": {},
   "outputs": [],
   "source": [
    "def grocery_store(A):\n",
    "    n = len(A)\n",
    "    size, result = 0, 0\n",
    "    for i in range(n):\n",
    "        if A[i] == 0:\n",
    "            size += 1\n",
    "        else:\n",
    "            size -=  1\n",
    "            result = max(result, -size)\n",
    "    return result"
   ]
  },
  {
   "cell_type": "markdown",
   "metadata": {},
   "source": [
    "# Brackets\n",
    "\n",
    "A string S consisting of N characters is considered to be properly nested if any of the following conditions is true:\n",
    "\n",
    "* S is empty;\n",
    "* S has the form \"(U)\" or \"[U]\" or \"{U}\" where U is a properly nested string;\n",
    "* S has the form \"VW\" where V and W are properly nested strings.\n",
    "\n",
    "For example, the string \"{[()()]}\" is properly nested but \"([)()]\" is not.\n",
    "\n",
    "Write a function:\n",
    "\n",
    "    def solution(S)\n",
    "\n",
    "that, given a string S consisting of N characters, returns 1 if S is properly nested and 0 otherwise.\n",
    "\n",
    "For example, given S = \"{[()()]}\", the function should return 1 and given S = \"([)()]\", the function should return 0, as explained above.\n",
    "\n",
    "Write an efficient algorithm for the following assumptions:\n",
    "\n",
    "* N is an integer within the range [0..200,000];\n",
    "* string S consists only of the following characters: \"(\", \"{\", \"[\", \"]\", \"}\" and/or \")\"."
   ]
  },
  {
   "cell_type": "code",
   "execution_count": null,
   "metadata": {},
   "outputs": [],
   "source": []
  },
  {
   "cell_type": "markdown",
   "metadata": {},
   "source": [
    "# Fish\n"
   ]
  }
 ],
 "metadata": {
  "kernelspec": {
   "display_name": "Python 3",
   "language": "python",
   "name": "python3"
  },
  "language_info": {
   "codemirror_mode": {
    "name": "ipython",
    "version": 3
   },
   "file_extension": ".py",
   "mimetype": "text/x-python",
   "name": "python",
   "nbconvert_exporter": "python",
   "pygments_lexer": "ipython3",
   "version": "3.7.3"
  }
 },
 "nbformat": 4,
 "nbformat_minor": 4
}
